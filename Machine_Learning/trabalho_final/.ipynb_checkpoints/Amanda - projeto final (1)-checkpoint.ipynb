{
 "cells": [
  {
   "cell_type": "markdown",
   "metadata": {
    "id": "gBAO3j_f6l6j"
   },
   "source": [
    "# Projeto Final de Machine Learning - Amanda Keren Frois Cardoso\n",
    "Matrícula: 202124410001"
   ]
  },
  {
   "cell_type": "markdown",
   "metadata": {
    "id": "B0PT2PPS6l6p"
   },
   "source": [
    "# Exercício 1 - Classificação\n",
    "\n",
    "Neste exercício, vamos trabalhar com o conjunto de dados Wine (carregado abaixo). Você deve escrever o código para executar as seguintes tarefas:\n",
    "\n",
    "<br>1- Normalizar o conjunto de dados. \n",
    "<br>2- Separar as observações e rótulos em dois conjuntos (treino e teste) de acordo com o método hold-out (75/25)\n",
    "<br>3- Executar o PCA sobre todo o conjunto de dados e plotar um gráfico com duas dimensões que mostre os dois componentes principais e os pontos com cores diferentes de acordo com o rótulo. \n",
    "<br>4- Construir modelos de aprendizado (classificação) de acordo com os seguintes algoritmos: Árvore de Decisão, Random Forest e kNN. \n",
    "<br>5- Testar o desempenho dos três modelos, imprimindo na tela as principais métricas de desempenho e a matriz de confusão. \n",
    "\n",
    "<br> Após executar os códigos, responda: qual modelo teve o melhor desempenho?"
   ]
  },
  {
   "cell_type": "code",
   "execution_count": 254,
   "metadata": {
    "colab": {
     "base_uri": "https://localhost:8080/",
     "height": 270
    },
    "executionInfo": {
     "elapsed": 265,
     "status": "ok",
     "timestamp": 1642800912467,
     "user": {
      "displayName": "Amanda Keren Frois Cardoso",
      "photoUrl": "https://lh3.googleusercontent.com/a-/AOh14Gg0sRdE_vP8axpdT-cC4PkDqgdu4M5nD4x0YFHx=s64",
      "userId": "06260755892418085078"
     },
     "user_tz": 180
    },
    "id": "YD02mivT6l6q",
    "outputId": "e248fc14-93a2-42b9-c7d1-a983f175c2a2"
   },
   "outputs": [
    {
     "data": {
      "text/html": [
       "\n",
       "  <div id=\"df-d940f1e9-c513-4821-81ed-d8149e60343b\">\n",
       "    <div class=\"colab-df-container\">\n",
       "      <div>\n",
       "<style scoped>\n",
       "    .dataframe tbody tr th:only-of-type {\n",
       "        vertical-align: middle;\n",
       "    }\n",
       "\n",
       "    .dataframe tbody tr th {\n",
       "        vertical-align: top;\n",
       "    }\n",
       "\n",
       "    .dataframe thead th {\n",
       "        text-align: right;\n",
       "    }\n",
       "</style>\n",
       "<table border=\"1\" class=\"dataframe\">\n",
       "  <thead>\n",
       "    <tr style=\"text-align: right;\">\n",
       "      <th></th>\n",
       "      <th>alcohol</th>\n",
       "      <th>malic_acid</th>\n",
       "      <th>ash</th>\n",
       "      <th>alcalinity_of_ash</th>\n",
       "      <th>magnesium</th>\n",
       "      <th>total_phenols</th>\n",
       "      <th>flavanoids</th>\n",
       "      <th>nonflavanoid_phenols</th>\n",
       "      <th>proanthocyanins</th>\n",
       "      <th>color_intensity</th>\n",
       "      <th>hue</th>\n",
       "      <th>od280/od315_of_diluted_wines</th>\n",
       "      <th>proline</th>\n",
       "    </tr>\n",
       "  </thead>\n",
       "  <tbody>\n",
       "    <tr>\n",
       "      <th>0</th>\n",
       "      <td>14.23</td>\n",
       "      <td>1.71</td>\n",
       "      <td>2.43</td>\n",
       "      <td>15.6</td>\n",
       "      <td>127.0</td>\n",
       "      <td>2.80</td>\n",
       "      <td>3.06</td>\n",
       "      <td>0.28</td>\n",
       "      <td>2.29</td>\n",
       "      <td>5.64</td>\n",
       "      <td>1.04</td>\n",
       "      <td>3.92</td>\n",
       "      <td>1065.0</td>\n",
       "    </tr>\n",
       "    <tr>\n",
       "      <th>1</th>\n",
       "      <td>13.20</td>\n",
       "      <td>1.78</td>\n",
       "      <td>2.14</td>\n",
       "      <td>11.2</td>\n",
       "      <td>100.0</td>\n",
       "      <td>2.65</td>\n",
       "      <td>2.76</td>\n",
       "      <td>0.26</td>\n",
       "      <td>1.28</td>\n",
       "      <td>4.38</td>\n",
       "      <td>1.05</td>\n",
       "      <td>3.40</td>\n",
       "      <td>1050.0</td>\n",
       "    </tr>\n",
       "    <tr>\n",
       "      <th>2</th>\n",
       "      <td>13.16</td>\n",
       "      <td>2.36</td>\n",
       "      <td>2.67</td>\n",
       "      <td>18.6</td>\n",
       "      <td>101.0</td>\n",
       "      <td>2.80</td>\n",
       "      <td>3.24</td>\n",
       "      <td>0.30</td>\n",
       "      <td>2.81</td>\n",
       "      <td>5.68</td>\n",
       "      <td>1.03</td>\n",
       "      <td>3.17</td>\n",
       "      <td>1185.0</td>\n",
       "    </tr>\n",
       "    <tr>\n",
       "      <th>3</th>\n",
       "      <td>14.37</td>\n",
       "      <td>1.95</td>\n",
       "      <td>2.50</td>\n",
       "      <td>16.8</td>\n",
       "      <td>113.0</td>\n",
       "      <td>3.85</td>\n",
       "      <td>3.49</td>\n",
       "      <td>0.24</td>\n",
       "      <td>2.18</td>\n",
       "      <td>7.80</td>\n",
       "      <td>0.86</td>\n",
       "      <td>3.45</td>\n",
       "      <td>1480.0</td>\n",
       "    </tr>\n",
       "    <tr>\n",
       "      <th>4</th>\n",
       "      <td>13.24</td>\n",
       "      <td>2.59</td>\n",
       "      <td>2.87</td>\n",
       "      <td>21.0</td>\n",
       "      <td>118.0</td>\n",
       "      <td>2.80</td>\n",
       "      <td>2.69</td>\n",
       "      <td>0.39</td>\n",
       "      <td>1.82</td>\n",
       "      <td>4.32</td>\n",
       "      <td>1.04</td>\n",
       "      <td>2.93</td>\n",
       "      <td>735.0</td>\n",
       "    </tr>\n",
       "  </tbody>\n",
       "</table>\n",
       "</div>\n",
       "      <button class=\"colab-df-convert\" onclick=\"convertToInteractive('df-d940f1e9-c513-4821-81ed-d8149e60343b')\"\n",
       "              title=\"Convert this dataframe to an interactive table.\"\n",
       "              style=\"display:none;\">\n",
       "        \n",
       "  <svg xmlns=\"http://www.w3.org/2000/svg\" height=\"24px\"viewBox=\"0 0 24 24\"\n",
       "       width=\"24px\">\n",
       "    <path d=\"M0 0h24v24H0V0z\" fill=\"none\"/>\n",
       "    <path d=\"M18.56 5.44l.94 2.06.94-2.06 2.06-.94-2.06-.94-.94-2.06-.94 2.06-2.06.94zm-11 1L8.5 8.5l.94-2.06 2.06-.94-2.06-.94L8.5 2.5l-.94 2.06-2.06.94zm10 10l.94 2.06.94-2.06 2.06-.94-2.06-.94-.94-2.06-.94 2.06-2.06.94z\"/><path d=\"M17.41 7.96l-1.37-1.37c-.4-.4-.92-.59-1.43-.59-.52 0-1.04.2-1.43.59L10.3 9.45l-7.72 7.72c-.78.78-.78 2.05 0 2.83L4 21.41c.39.39.9.59 1.41.59.51 0 1.02-.2 1.41-.59l7.78-7.78 2.81-2.81c.8-.78.8-2.07 0-2.86zM5.41 20L4 18.59l7.72-7.72 1.47 1.35L5.41 20z\"/>\n",
       "  </svg>\n",
       "      </button>\n",
       "      \n",
       "  <style>\n",
       "    .colab-df-container {\n",
       "      display:flex;\n",
       "      flex-wrap:wrap;\n",
       "      gap: 12px;\n",
       "    }\n",
       "\n",
       "    .colab-df-convert {\n",
       "      background-color: #E8F0FE;\n",
       "      border: none;\n",
       "      border-radius: 50%;\n",
       "      cursor: pointer;\n",
       "      display: none;\n",
       "      fill: #1967D2;\n",
       "      height: 32px;\n",
       "      padding: 0 0 0 0;\n",
       "      width: 32px;\n",
       "    }\n",
       "\n",
       "    .colab-df-convert:hover {\n",
       "      background-color: #E2EBFA;\n",
       "      box-shadow: 0px 1px 2px rgba(60, 64, 67, 0.3), 0px 1px 3px 1px rgba(60, 64, 67, 0.15);\n",
       "      fill: #174EA6;\n",
       "    }\n",
       "\n",
       "    [theme=dark] .colab-df-convert {\n",
       "      background-color: #3B4455;\n",
       "      fill: #D2E3FC;\n",
       "    }\n",
       "\n",
       "    [theme=dark] .colab-df-convert:hover {\n",
       "      background-color: #434B5C;\n",
       "      box-shadow: 0px 1px 3px 1px rgba(0, 0, 0, 0.15);\n",
       "      filter: drop-shadow(0px 1px 2px rgba(0, 0, 0, 0.3));\n",
       "      fill: #FFFFFF;\n",
       "    }\n",
       "  </style>\n",
       "\n",
       "      <script>\n",
       "        const buttonEl =\n",
       "          document.querySelector('#df-d940f1e9-c513-4821-81ed-d8149e60343b button.colab-df-convert');\n",
       "        buttonEl.style.display =\n",
       "          google.colab.kernel.accessAllowed ? 'block' : 'none';\n",
       "\n",
       "        async function convertToInteractive(key) {\n",
       "          const element = document.querySelector('#df-d940f1e9-c513-4821-81ed-d8149e60343b');\n",
       "          const dataTable =\n",
       "            await google.colab.kernel.invokeFunction('convertToInteractive',\n",
       "                                                     [key], {});\n",
       "          if (!dataTable) return;\n",
       "\n",
       "          const docLinkHtml = 'Like what you see? Visit the ' +\n",
       "            '<a target=\"_blank\" href=https://colab.research.google.com/notebooks/data_table.ipynb>data table notebook</a>'\n",
       "            + ' to learn more about interactive tables.';\n",
       "          element.innerHTML = '';\n",
       "          dataTable['output_type'] = 'display_data';\n",
       "          await google.colab.output.renderOutput(dataTable, element);\n",
       "          const docLink = document.createElement('div');\n",
       "          docLink.innerHTML = docLinkHtml;\n",
       "          element.appendChild(docLink);\n",
       "        }\n",
       "      </script>\n",
       "    </div>\n",
       "  </div>\n",
       "  "
      ],
      "text/plain": [
       "   alcohol  malic_acid   ash  ...   hue  od280/od315_of_diluted_wines  proline\n",
       "0    14.23        1.71  2.43  ...  1.04                          3.92   1065.0\n",
       "1    13.20        1.78  2.14  ...  1.05                          3.40   1050.0\n",
       "2    13.16        2.36  2.67  ...  1.03                          3.17   1185.0\n",
       "3    14.37        1.95  2.50  ...  0.86                          3.45   1480.0\n",
       "4    13.24        2.59  2.87  ...  1.04                          2.93    735.0\n",
       "\n",
       "[5 rows x 13 columns]"
      ]
     },
     "execution_count": 254,
     "metadata": {},
     "output_type": "execute_result"
    }
   ],
   "source": [
    "import pandas as pd\n",
    "import numpy as np\n",
    "from sklearn import datasets \n",
    "\n",
    "from sklearn.decomposition import PCA\n",
    "import matplotlib.pyplot as plt\n",
    "\n",
    "from sklearn.metrics import plot_confusion_matrix\n",
    "from sklearn.metrics import accuracy_score\n",
    "from sklearn.metrics import classification_report\n",
    "from sklearn.metrics import confusion_matrix\n",
    "from sklearn.neighbors import KNeighborsClassifier\n",
    "from sklearn.tree import DecisionTreeClassifier \n",
    "from sklearn.ensemble import RandomForestClassifier\n",
    "from sklearn import tree\n",
    "\n",
    "\n",
    "wine_data, wine_target = datasets.load_wine(return_X_y=True, as_frame=True)\n",
    "\n",
    "wine_target = pd.DataFrame({'classes':wine_target.values}).astype('category')\n",
    "\n",
    "#Visualizando o dataframe \n",
    "wine_data.head()\n",
    "\n"
   ]
  },
  {
   "cell_type": "code",
   "execution_count": 3,
   "metadata": {
    "colab": {
     "base_uri": "https://localhost:8080/",
     "height": 206
    },
    "executionInfo": {
     "elapsed": 331,
     "status": "ok",
     "timestamp": 1642791065446,
     "user": {
      "displayName": "Amanda Keren Frois Cardoso",
      "photoUrl": "https://lh3.googleusercontent.com/a-/AOh14Gg0sRdE_vP8axpdT-cC4PkDqgdu4M5nD4x0YFHx=s64",
      "userId": "06260755892418085078"
     },
     "user_tz": 180
    },
    "id": "jdJ5TbGa8yVu",
    "outputId": "06b01e7d-87a2-45a6-8772-25c949223c71"
   },
   "outputs": [
    {
     "data": {
      "text/html": [
       "\n",
       "  <div id=\"df-8918d7f3-0279-411f-81f4-472f267f56f8\">\n",
       "    <div class=\"colab-df-container\">\n",
       "      <div>\n",
       "<style scoped>\n",
       "    .dataframe tbody tr th:only-of-type {\n",
       "        vertical-align: middle;\n",
       "    }\n",
       "\n",
       "    .dataframe tbody tr th {\n",
       "        vertical-align: top;\n",
       "    }\n",
       "\n",
       "    .dataframe thead th {\n",
       "        text-align: right;\n",
       "    }\n",
       "</style>\n",
       "<table border=\"1\" class=\"dataframe\">\n",
       "  <thead>\n",
       "    <tr style=\"text-align: right;\">\n",
       "      <th></th>\n",
       "      <th>classes</th>\n",
       "    </tr>\n",
       "  </thead>\n",
       "  <tbody>\n",
       "    <tr>\n",
       "      <th>0</th>\n",
       "      <td>0</td>\n",
       "    </tr>\n",
       "    <tr>\n",
       "      <th>1</th>\n",
       "      <td>0</td>\n",
       "    </tr>\n",
       "    <tr>\n",
       "      <th>2</th>\n",
       "      <td>0</td>\n",
       "    </tr>\n",
       "    <tr>\n",
       "      <th>3</th>\n",
       "      <td>0</td>\n",
       "    </tr>\n",
       "    <tr>\n",
       "      <th>4</th>\n",
       "      <td>0</td>\n",
       "    </tr>\n",
       "  </tbody>\n",
       "</table>\n",
       "</div>\n",
       "      <button class=\"colab-df-convert\" onclick=\"convertToInteractive('df-8918d7f3-0279-411f-81f4-472f267f56f8')\"\n",
       "              title=\"Convert this dataframe to an interactive table.\"\n",
       "              style=\"display:none;\">\n",
       "        \n",
       "  <svg xmlns=\"http://www.w3.org/2000/svg\" height=\"24px\"viewBox=\"0 0 24 24\"\n",
       "       width=\"24px\">\n",
       "    <path d=\"M0 0h24v24H0V0z\" fill=\"none\"/>\n",
       "    <path d=\"M18.56 5.44l.94 2.06.94-2.06 2.06-.94-2.06-.94-.94-2.06-.94 2.06-2.06.94zm-11 1L8.5 8.5l.94-2.06 2.06-.94-2.06-.94L8.5 2.5l-.94 2.06-2.06.94zm10 10l.94 2.06.94-2.06 2.06-.94-2.06-.94-.94-2.06-.94 2.06-2.06.94z\"/><path d=\"M17.41 7.96l-1.37-1.37c-.4-.4-.92-.59-1.43-.59-.52 0-1.04.2-1.43.59L10.3 9.45l-7.72 7.72c-.78.78-.78 2.05 0 2.83L4 21.41c.39.39.9.59 1.41.59.51 0 1.02-.2 1.41-.59l7.78-7.78 2.81-2.81c.8-.78.8-2.07 0-2.86zM5.41 20L4 18.59l7.72-7.72 1.47 1.35L5.41 20z\"/>\n",
       "  </svg>\n",
       "      </button>\n",
       "      \n",
       "  <style>\n",
       "    .colab-df-container {\n",
       "      display:flex;\n",
       "      flex-wrap:wrap;\n",
       "      gap: 12px;\n",
       "    }\n",
       "\n",
       "    .colab-df-convert {\n",
       "      background-color: #E8F0FE;\n",
       "      border: none;\n",
       "      border-radius: 50%;\n",
       "      cursor: pointer;\n",
       "      display: none;\n",
       "      fill: #1967D2;\n",
       "      height: 32px;\n",
       "      padding: 0 0 0 0;\n",
       "      width: 32px;\n",
       "    }\n",
       "\n",
       "    .colab-df-convert:hover {\n",
       "      background-color: #E2EBFA;\n",
       "      box-shadow: 0px 1px 2px rgba(60, 64, 67, 0.3), 0px 1px 3px 1px rgba(60, 64, 67, 0.15);\n",
       "      fill: #174EA6;\n",
       "    }\n",
       "\n",
       "    [theme=dark] .colab-df-convert {\n",
       "      background-color: #3B4455;\n",
       "      fill: #D2E3FC;\n",
       "    }\n",
       "\n",
       "    [theme=dark] .colab-df-convert:hover {\n",
       "      background-color: #434B5C;\n",
       "      box-shadow: 0px 1px 3px 1px rgba(0, 0, 0, 0.15);\n",
       "      filter: drop-shadow(0px 1px 2px rgba(0, 0, 0, 0.3));\n",
       "      fill: #FFFFFF;\n",
       "    }\n",
       "  </style>\n",
       "\n",
       "      <script>\n",
       "        const buttonEl =\n",
       "          document.querySelector('#df-8918d7f3-0279-411f-81f4-472f267f56f8 button.colab-df-convert');\n",
       "        buttonEl.style.display =\n",
       "          google.colab.kernel.accessAllowed ? 'block' : 'none';\n",
       "\n",
       "        async function convertToInteractive(key) {\n",
       "          const element = document.querySelector('#df-8918d7f3-0279-411f-81f4-472f267f56f8');\n",
       "          const dataTable =\n",
       "            await google.colab.kernel.invokeFunction('convertToInteractive',\n",
       "                                                     [key], {});\n",
       "          if (!dataTable) return;\n",
       "\n",
       "          const docLinkHtml = 'Like what you see? Visit the ' +\n",
       "            '<a target=\"_blank\" href=https://colab.research.google.com/notebooks/data_table.ipynb>data table notebook</a>'\n",
       "            + ' to learn more about interactive tables.';\n",
       "          element.innerHTML = '';\n",
       "          dataTable['output_type'] = 'display_data';\n",
       "          await google.colab.output.renderOutput(dataTable, element);\n",
       "          const docLink = document.createElement('div');\n",
       "          docLink.innerHTML = docLinkHtml;\n",
       "          element.appendChild(docLink);\n",
       "        }\n",
       "      </script>\n",
       "    </div>\n",
       "  </div>\n",
       "  "
      ],
      "text/plain": [
       "   classes\n",
       "0        0\n",
       "1        0\n",
       "2        0\n",
       "3        0\n",
       "4        0"
      ]
     },
     "execution_count": 3,
     "metadata": {},
     "output_type": "execute_result"
    }
   ],
   "source": [
    "#Visualizando o dataframe target\n",
    "\n",
    "wine_target.head()"
   ]
  },
  {
   "cell_type": "markdown",
   "metadata": {
    "id": "opm8yzahO3GG"
   },
   "source": [
    "# 1 - NORMALIZANDO OS DADOS:\n",
    "\n",
    "*   Usando StandardScaler\n",
    "\n",
    "\n",
    "\n",
    "\n",
    "\n",
    "\n"
   ]
  },
  {
   "cell_type": "code",
   "execution_count": 121,
   "metadata": {
    "colab": {
     "base_uri": "https://localhost:8080/",
     "height": 270
    },
    "executionInfo": {
     "elapsed": 350,
     "status": "ok",
     "timestamp": 1642796614146,
     "user": {
      "displayName": "Amanda Keren Frois Cardoso",
      "photoUrl": "https://lh3.googleusercontent.com/a-/AOh14Gg0sRdE_vP8axpdT-cC4PkDqgdu4M5nD4x0YFHx=s64",
      "userId": "06260755892418085078"
     },
     "user_tz": 180
    },
    "id": "Poe8WeFX7gLE",
    "outputId": "95c1bb05-faea-48ff-8e8f-e8f235bd5e9e"
   },
   "outputs": [
    {
     "data": {
      "text/html": [
       "\n",
       "  <div id=\"df-32a8c632-5634-49a6-b25e-e5d21facaac2\">\n",
       "    <div class=\"colab-df-container\">\n",
       "      <div>\n",
       "<style scoped>\n",
       "    .dataframe tbody tr th:only-of-type {\n",
       "        vertical-align: middle;\n",
       "    }\n",
       "\n",
       "    .dataframe tbody tr th {\n",
       "        vertical-align: top;\n",
       "    }\n",
       "\n",
       "    .dataframe thead th {\n",
       "        text-align: right;\n",
       "    }\n",
       "</style>\n",
       "<table border=\"1\" class=\"dataframe\">\n",
       "  <thead>\n",
       "    <tr style=\"text-align: right;\">\n",
       "      <th></th>\n",
       "      <th>0</th>\n",
       "      <th>1</th>\n",
       "      <th>2</th>\n",
       "      <th>3</th>\n",
       "      <th>4</th>\n",
       "      <th>5</th>\n",
       "      <th>6</th>\n",
       "      <th>7</th>\n",
       "      <th>8</th>\n",
       "      <th>9</th>\n",
       "      <th>10</th>\n",
       "      <th>11</th>\n",
       "      <th>12</th>\n",
       "    </tr>\n",
       "  </thead>\n",
       "  <tbody>\n",
       "    <tr>\n",
       "      <th>0</th>\n",
       "      <td>1.518613</td>\n",
       "      <td>-0.562250</td>\n",
       "      <td>0.232053</td>\n",
       "      <td>-1.169593</td>\n",
       "      <td>1.913905</td>\n",
       "      <td>0.808997</td>\n",
       "      <td>1.034819</td>\n",
       "      <td>-0.659563</td>\n",
       "      <td>1.224884</td>\n",
       "      <td>0.251717</td>\n",
       "      <td>0.362177</td>\n",
       "      <td>1.847920</td>\n",
       "      <td>1.013009</td>\n",
       "    </tr>\n",
       "    <tr>\n",
       "      <th>1</th>\n",
       "      <td>0.246290</td>\n",
       "      <td>-0.499413</td>\n",
       "      <td>-0.827996</td>\n",
       "      <td>-2.490847</td>\n",
       "      <td>0.018145</td>\n",
       "      <td>0.568648</td>\n",
       "      <td>0.733629</td>\n",
       "      <td>-0.820719</td>\n",
       "      <td>-0.544721</td>\n",
       "      <td>-0.293321</td>\n",
       "      <td>0.406051</td>\n",
       "      <td>1.113449</td>\n",
       "      <td>0.965242</td>\n",
       "    </tr>\n",
       "    <tr>\n",
       "      <th>2</th>\n",
       "      <td>0.196879</td>\n",
       "      <td>0.021231</td>\n",
       "      <td>1.109334</td>\n",
       "      <td>-0.268738</td>\n",
       "      <td>0.088358</td>\n",
       "      <td>0.808997</td>\n",
       "      <td>1.215533</td>\n",
       "      <td>-0.498407</td>\n",
       "      <td>2.135968</td>\n",
       "      <td>0.269020</td>\n",
       "      <td>0.318304</td>\n",
       "      <td>0.788587</td>\n",
       "      <td>1.395148</td>\n",
       "    </tr>\n",
       "    <tr>\n",
       "      <th>3</th>\n",
       "      <td>1.691550</td>\n",
       "      <td>-0.346811</td>\n",
       "      <td>0.487926</td>\n",
       "      <td>-0.809251</td>\n",
       "      <td>0.930918</td>\n",
       "      <td>2.491446</td>\n",
       "      <td>1.466525</td>\n",
       "      <td>-0.981875</td>\n",
       "      <td>1.032155</td>\n",
       "      <td>1.186068</td>\n",
       "      <td>-0.427544</td>\n",
       "      <td>1.184071</td>\n",
       "      <td>2.334574</td>\n",
       "    </tr>\n",
       "    <tr>\n",
       "      <th>4</th>\n",
       "      <td>0.295700</td>\n",
       "      <td>0.227694</td>\n",
       "      <td>1.840403</td>\n",
       "      <td>0.451946</td>\n",
       "      <td>1.281985</td>\n",
       "      <td>0.808997</td>\n",
       "      <td>0.663351</td>\n",
       "      <td>0.226796</td>\n",
       "      <td>0.401404</td>\n",
       "      <td>-0.319276</td>\n",
       "      <td>0.362177</td>\n",
       "      <td>0.449601</td>\n",
       "      <td>-0.037874</td>\n",
       "    </tr>\n",
       "  </tbody>\n",
       "</table>\n",
       "</div>\n",
       "      <button class=\"colab-df-convert\" onclick=\"convertToInteractive('df-32a8c632-5634-49a6-b25e-e5d21facaac2')\"\n",
       "              title=\"Convert this dataframe to an interactive table.\"\n",
       "              style=\"display:none;\">\n",
       "        \n",
       "  <svg xmlns=\"http://www.w3.org/2000/svg\" height=\"24px\"viewBox=\"0 0 24 24\"\n",
       "       width=\"24px\">\n",
       "    <path d=\"M0 0h24v24H0V0z\" fill=\"none\"/>\n",
       "    <path d=\"M18.56 5.44l.94 2.06.94-2.06 2.06-.94-2.06-.94-.94-2.06-.94 2.06-2.06.94zm-11 1L8.5 8.5l.94-2.06 2.06-.94-2.06-.94L8.5 2.5l-.94 2.06-2.06.94zm10 10l.94 2.06.94-2.06 2.06-.94-2.06-.94-.94-2.06-.94 2.06-2.06.94z\"/><path d=\"M17.41 7.96l-1.37-1.37c-.4-.4-.92-.59-1.43-.59-.52 0-1.04.2-1.43.59L10.3 9.45l-7.72 7.72c-.78.78-.78 2.05 0 2.83L4 21.41c.39.39.9.59 1.41.59.51 0 1.02-.2 1.41-.59l7.78-7.78 2.81-2.81c.8-.78.8-2.07 0-2.86zM5.41 20L4 18.59l7.72-7.72 1.47 1.35L5.41 20z\"/>\n",
       "  </svg>\n",
       "      </button>\n",
       "      \n",
       "  <style>\n",
       "    .colab-df-container {\n",
       "      display:flex;\n",
       "      flex-wrap:wrap;\n",
       "      gap: 12px;\n",
       "    }\n",
       "\n",
       "    .colab-df-convert {\n",
       "      background-color: #E8F0FE;\n",
       "      border: none;\n",
       "      border-radius: 50%;\n",
       "      cursor: pointer;\n",
       "      display: none;\n",
       "      fill: #1967D2;\n",
       "      height: 32px;\n",
       "      padding: 0 0 0 0;\n",
       "      width: 32px;\n",
       "    }\n",
       "\n",
       "    .colab-df-convert:hover {\n",
       "      background-color: #E2EBFA;\n",
       "      box-shadow: 0px 1px 2px rgba(60, 64, 67, 0.3), 0px 1px 3px 1px rgba(60, 64, 67, 0.15);\n",
       "      fill: #174EA6;\n",
       "    }\n",
       "\n",
       "    [theme=dark] .colab-df-convert {\n",
       "      background-color: #3B4455;\n",
       "      fill: #D2E3FC;\n",
       "    }\n",
       "\n",
       "    [theme=dark] .colab-df-convert:hover {\n",
       "      background-color: #434B5C;\n",
       "      box-shadow: 0px 1px 3px 1px rgba(0, 0, 0, 0.15);\n",
       "      filter: drop-shadow(0px 1px 2px rgba(0, 0, 0, 0.3));\n",
       "      fill: #FFFFFF;\n",
       "    }\n",
       "  </style>\n",
       "\n",
       "      <script>\n",
       "        const buttonEl =\n",
       "          document.querySelector('#df-32a8c632-5634-49a6-b25e-e5d21facaac2 button.colab-df-convert');\n",
       "        buttonEl.style.display =\n",
       "          google.colab.kernel.accessAllowed ? 'block' : 'none';\n",
       "\n",
       "        async function convertToInteractive(key) {\n",
       "          const element = document.querySelector('#df-32a8c632-5634-49a6-b25e-e5d21facaac2');\n",
       "          const dataTable =\n",
       "            await google.colab.kernel.invokeFunction('convertToInteractive',\n",
       "                                                     [key], {});\n",
       "          if (!dataTable) return;\n",
       "\n",
       "          const docLinkHtml = 'Like what you see? Visit the ' +\n",
       "            '<a target=\"_blank\" href=https://colab.research.google.com/notebooks/data_table.ipynb>data table notebook</a>'\n",
       "            + ' to learn more about interactive tables.';\n",
       "          element.innerHTML = '';\n",
       "          dataTable['output_type'] = 'display_data';\n",
       "          await google.colab.output.renderOutput(dataTable, element);\n",
       "          const docLink = document.createElement('div');\n",
       "          docLink.innerHTML = docLinkHtml;\n",
       "          element.appendChild(docLink);\n",
       "        }\n",
       "      </script>\n",
       "    </div>\n",
       "  </div>\n",
       "  "
      ],
      "text/plain": [
       "         0         1         2   ...        10        11        12\n",
       "0  1.518613 -0.562250  0.232053  ...  0.362177  1.847920  1.013009\n",
       "1  0.246290 -0.499413 -0.827996  ...  0.406051  1.113449  0.965242\n",
       "2  0.196879  0.021231  1.109334  ...  0.318304  0.788587  1.395148\n",
       "3  1.691550 -0.346811  0.487926  ... -0.427544  1.184071  2.334574\n",
       "4  0.295700  0.227694  1.840403  ...  0.362177  0.449601 -0.037874\n",
       "\n",
       "[5 rows x 13 columns]"
      ]
     },
     "execution_count": 121,
     "metadata": {},
     "output_type": "execute_result"
    }
   ],
   "source": [
    "#Normalizando os dados usando o método StandardScaler()\n",
    "\n",
    "from sklearn.preprocessing import StandardScaler\n",
    "\n",
    "wine_std_normalization=StandardScaler().fit_transform(wine_data)\n",
    "\n",
    "pd.DataFrame(wine_std_normalization).head()"
   ]
  },
  {
   "cell_type": "markdown",
   "metadata": {
    "id": "nYf3FwKKPf72"
   },
   "source": [
    "# 2 - SEPARANDO OS DADOS EM CONJUNTO DE TREINO E DE TESTE COM O MÉTODO HOLD-OUT"
   ]
  },
  {
   "cell_type": "code",
   "execution_count": 103,
   "metadata": {
    "executionInfo": {
     "elapsed": 283,
     "status": "ok",
     "timestamp": 1642796131397,
     "user": {
      "displayName": "Amanda Keren Frois Cardoso",
      "photoUrl": "https://lh3.googleusercontent.com/a-/AOh14Gg0sRdE_vP8axpdT-cC4PkDqgdu4M5nD4x0YFHx=s64",
      "userId": "06260755892418085078"
     },
     "user_tz": 180
    },
    "id": "shVLxwBzHqti"
   },
   "outputs": [],
   "source": [
    "# Usando o método hold-out para separar a amostra de dados entre treino e teste\n",
    "\n",
    "# embaralhando as amostras (random)\n",
    "np.random.seed(15)\n",
    "\n",
    "#retorna uma faixa de valores permutados\n",
    "indices = np.random.permutation(len(wine_data))\n",
    "\n",
    "corte = round(len(wine_data)*0.75)\n",
    "\n",
    "#iloc seleciona a posição do dataframe com base no inteiro passado como parâmetro\n",
    "amostras_treino = wine_data.iloc[indices[:corte]]\n",
    "rotulos_treino = wine_target['classes'].iloc[indices[:corte]].cat.codes\n",
    "\n",
    "amostras_teste = wine_data.drop(amostras_treino.index)\n",
    "rotulos_teste = wine_target['classes'].drop(rotulos_treino.index).cat.codes\n"
   ]
  },
  {
   "cell_type": "code",
   "execution_count": 98,
   "metadata": {
    "colab": {
     "base_uri": "https://localhost:8080/"
    },
    "executionInfo": {
     "elapsed": 290,
     "status": "ok",
     "timestamp": 1642795552330,
     "user": {
      "displayName": "Amanda Keren Frois Cardoso",
      "photoUrl": "https://lh3.googleusercontent.com/a-/AOh14Gg0sRdE_vP8axpdT-cC4PkDqgdu4M5nD4x0YFHx=s64",
      "userId": "06260755892418085078"
     },
     "user_tz": 180
    },
    "id": "F5tQ9h0WLxB4",
    "outputId": "c6c2d804-ccc7-40f0-bb83-cbef7e4af66e"
   },
   "outputs": [
    {
     "name": "stdout",
     "output_type": "stream",
     "text": [
      "134\n",
      "44\n"
     ]
    }
   ],
   "source": [
    "#Visualizando o tamanho das amostras\n",
    "print(rotulos_treino.count())\n",
    "print(rotulos_teste.count())"
   ]
  },
  {
   "cell_type": "markdown",
   "metadata": {
    "id": "_i_Z0mREPyHR"
   },
   "source": [
    "# 3 - EXECUTANDO O PCA:\n",
    "\n",
    "*   Realizando o PCA sobre todos os dados\n",
    "*   Plotar gráfico com duas dimensões (com os dois componentes principais) e os pontos com cores diferentes de acordo com o rótulo."
   ]
  },
  {
   "cell_type": "code",
   "execution_count": 125,
   "metadata": {
    "colab": {
     "base_uri": "https://localhost:8080/",
     "height": 270
    },
    "executionInfo": {
     "elapsed": 4,
     "status": "ok",
     "timestamp": 1642796656793,
     "user": {
      "displayName": "Amanda Keren Frois Cardoso",
      "photoUrl": "https://lh3.googleusercontent.com/a-/AOh14Gg0sRdE_vP8axpdT-cC4PkDqgdu4M5nD4x0YFHx=s64",
      "userId": "06260755892418085078"
     },
     "user_tz": 180
    },
    "id": "nelLabdbFWPK",
    "outputId": "2d3c0dba-96bf-413d-ab9c-613cb1ee5dc7"
   },
   "outputs": [
    {
     "data": {
      "text/html": [
       "\n",
       "  <div id=\"df-556454e4-def6-42c3-9026-a9433d53f8ae\">\n",
       "    <div class=\"colab-df-container\">\n",
       "      <div>\n",
       "<style scoped>\n",
       "    .dataframe tbody tr th:only-of-type {\n",
       "        vertical-align: middle;\n",
       "    }\n",
       "\n",
       "    .dataframe tbody tr th {\n",
       "        vertical-align: top;\n",
       "    }\n",
       "\n",
       "    .dataframe thead th {\n",
       "        text-align: right;\n",
       "    }\n",
       "</style>\n",
       "<table border=\"1\" class=\"dataframe\">\n",
       "  <thead>\n",
       "    <tr style=\"text-align: right;\">\n",
       "      <th></th>\n",
       "      <th>PC 1</th>\n",
       "      <th>PC 2</th>\n",
       "      <th>PC 3</th>\n",
       "      <th>PC 4</th>\n",
       "      <th>PC 5</th>\n",
       "      <th>PC 6</th>\n",
       "      <th>PC 7</th>\n",
       "      <th>PC 8</th>\n",
       "      <th>PC 9</th>\n",
       "      <th>PC 10</th>\n",
       "      <th>PC 11</th>\n",
       "      <th>PC 12</th>\n",
       "      <th>PC 13</th>\n",
       "      <th>classes</th>\n",
       "    </tr>\n",
       "  </thead>\n",
       "  <tbody>\n",
       "    <tr>\n",
       "      <th>0</th>\n",
       "      <td>3.316751</td>\n",
       "      <td>-1.443463</td>\n",
       "      <td>-0.165739</td>\n",
       "      <td>-0.215631</td>\n",
       "      <td>0.693043</td>\n",
       "      <td>-0.223880</td>\n",
       "      <td>0.596427</td>\n",
       "      <td>0.065139</td>\n",
       "      <td>0.641443</td>\n",
       "      <td>1.020956</td>\n",
       "      <td>-0.451563</td>\n",
       "      <td>0.540810</td>\n",
       "      <td>-0.066239</td>\n",
       "      <td>0</td>\n",
       "    </tr>\n",
       "    <tr>\n",
       "      <th>1</th>\n",
       "      <td>2.209465</td>\n",
       "      <td>0.333393</td>\n",
       "      <td>-2.026457</td>\n",
       "      <td>-0.291358</td>\n",
       "      <td>-0.257655</td>\n",
       "      <td>-0.927120</td>\n",
       "      <td>0.053776</td>\n",
       "      <td>1.024416</td>\n",
       "      <td>-0.308847</td>\n",
       "      <td>0.159701</td>\n",
       "      <td>-0.142657</td>\n",
       "      <td>0.388238</td>\n",
       "      <td>0.003637</td>\n",
       "      <td>0</td>\n",
       "    </tr>\n",
       "    <tr>\n",
       "      <th>2</th>\n",
       "      <td>2.516740</td>\n",
       "      <td>-1.031151</td>\n",
       "      <td>0.982819</td>\n",
       "      <td>0.724902</td>\n",
       "      <td>-0.251033</td>\n",
       "      <td>0.549276</td>\n",
       "      <td>0.424205</td>\n",
       "      <td>-0.344216</td>\n",
       "      <td>-1.177834</td>\n",
       "      <td>0.113361</td>\n",
       "      <td>-0.286673</td>\n",
       "      <td>0.000584</td>\n",
       "      <td>0.021717</td>\n",
       "      <td>0</td>\n",
       "    </tr>\n",
       "    <tr>\n",
       "      <th>3</th>\n",
       "      <td>3.757066</td>\n",
       "      <td>-2.756372</td>\n",
       "      <td>-0.176192</td>\n",
       "      <td>0.567983</td>\n",
       "      <td>-0.311842</td>\n",
       "      <td>0.114431</td>\n",
       "      <td>-0.383337</td>\n",
       "      <td>0.643593</td>\n",
       "      <td>0.052544</td>\n",
       "      <td>0.239413</td>\n",
       "      <td>0.759584</td>\n",
       "      <td>-0.242020</td>\n",
       "      <td>-0.369484</td>\n",
       "      <td>0</td>\n",
       "    </tr>\n",
       "    <tr>\n",
       "      <th>4</th>\n",
       "      <td>1.008908</td>\n",
       "      <td>-0.869831</td>\n",
       "      <td>2.026688</td>\n",
       "      <td>-0.409766</td>\n",
       "      <td>0.298458</td>\n",
       "      <td>-0.406520</td>\n",
       "      <td>0.444074</td>\n",
       "      <td>0.416700</td>\n",
       "      <td>0.326819</td>\n",
       "      <td>-0.078366</td>\n",
       "      <td>-0.525945</td>\n",
       "      <td>-0.216664</td>\n",
       "      <td>-0.079364</td>\n",
       "      <td>0</td>\n",
       "    </tr>\n",
       "  </tbody>\n",
       "</table>\n",
       "</div>\n",
       "      <button class=\"colab-df-convert\" onclick=\"convertToInteractive('df-556454e4-def6-42c3-9026-a9433d53f8ae')\"\n",
       "              title=\"Convert this dataframe to an interactive table.\"\n",
       "              style=\"display:none;\">\n",
       "        \n",
       "  <svg xmlns=\"http://www.w3.org/2000/svg\" height=\"24px\"viewBox=\"0 0 24 24\"\n",
       "       width=\"24px\">\n",
       "    <path d=\"M0 0h24v24H0V0z\" fill=\"none\"/>\n",
       "    <path d=\"M18.56 5.44l.94 2.06.94-2.06 2.06-.94-2.06-.94-.94-2.06-.94 2.06-2.06.94zm-11 1L8.5 8.5l.94-2.06 2.06-.94-2.06-.94L8.5 2.5l-.94 2.06-2.06.94zm10 10l.94 2.06.94-2.06 2.06-.94-2.06-.94-.94-2.06-.94 2.06-2.06.94z\"/><path d=\"M17.41 7.96l-1.37-1.37c-.4-.4-.92-.59-1.43-.59-.52 0-1.04.2-1.43.59L10.3 9.45l-7.72 7.72c-.78.78-.78 2.05 0 2.83L4 21.41c.39.39.9.59 1.41.59.51 0 1.02-.2 1.41-.59l7.78-7.78 2.81-2.81c.8-.78.8-2.07 0-2.86zM5.41 20L4 18.59l7.72-7.72 1.47 1.35L5.41 20z\"/>\n",
       "  </svg>\n",
       "      </button>\n",
       "      \n",
       "  <style>\n",
       "    .colab-df-container {\n",
       "      display:flex;\n",
       "      flex-wrap:wrap;\n",
       "      gap: 12px;\n",
       "    }\n",
       "\n",
       "    .colab-df-convert {\n",
       "      background-color: #E8F0FE;\n",
       "      border: none;\n",
       "      border-radius: 50%;\n",
       "      cursor: pointer;\n",
       "      display: none;\n",
       "      fill: #1967D2;\n",
       "      height: 32px;\n",
       "      padding: 0 0 0 0;\n",
       "      width: 32px;\n",
       "    }\n",
       "\n",
       "    .colab-df-convert:hover {\n",
       "      background-color: #E2EBFA;\n",
       "      box-shadow: 0px 1px 2px rgba(60, 64, 67, 0.3), 0px 1px 3px 1px rgba(60, 64, 67, 0.15);\n",
       "      fill: #174EA6;\n",
       "    }\n",
       "\n",
       "    [theme=dark] .colab-df-convert {\n",
       "      background-color: #3B4455;\n",
       "      fill: #D2E3FC;\n",
       "    }\n",
       "\n",
       "    [theme=dark] .colab-df-convert:hover {\n",
       "      background-color: #434B5C;\n",
       "      box-shadow: 0px 1px 3px 1px rgba(0, 0, 0, 0.15);\n",
       "      filter: drop-shadow(0px 1px 2px rgba(0, 0, 0, 0.3));\n",
       "      fill: #FFFFFF;\n",
       "    }\n",
       "  </style>\n",
       "\n",
       "      <script>\n",
       "        const buttonEl =\n",
       "          document.querySelector('#df-556454e4-def6-42c3-9026-a9433d53f8ae button.colab-df-convert');\n",
       "        buttonEl.style.display =\n",
       "          google.colab.kernel.accessAllowed ? 'block' : 'none';\n",
       "\n",
       "        async function convertToInteractive(key) {\n",
       "          const element = document.querySelector('#df-556454e4-def6-42c3-9026-a9433d53f8ae');\n",
       "          const dataTable =\n",
       "            await google.colab.kernel.invokeFunction('convertToInteractive',\n",
       "                                                     [key], {});\n",
       "          if (!dataTable) return;\n",
       "\n",
       "          const docLinkHtml = 'Like what you see? Visit the ' +\n",
       "            '<a target=\"_blank\" href=https://colab.research.google.com/notebooks/data_table.ipynb>data table notebook</a>'\n",
       "            + ' to learn more about interactive tables.';\n",
       "          element.innerHTML = '';\n",
       "          dataTable['output_type'] = 'display_data';\n",
       "          await google.colab.output.renderOutput(dataTable, element);\n",
       "          const docLink = document.createElement('div');\n",
       "          docLink.innerHTML = docLinkHtml;\n",
       "          element.appendChild(docLink);\n",
       "        }\n",
       "      </script>\n",
       "    </div>\n",
       "  </div>\n",
       "  "
      ],
      "text/plain": [
       "       PC 1      PC 2      PC 3      PC 4  ...     PC 11     PC 12     PC 13  classes\n",
       "0  3.316751 -1.443463 -0.165739 -0.215631  ... -0.451563  0.540810 -0.066239        0\n",
       "1  2.209465  0.333393 -2.026457 -0.291358  ... -0.142657  0.388238  0.003637        0\n",
       "2  2.516740 -1.031151  0.982819  0.724902  ... -0.286673  0.000584  0.021717        0\n",
       "3  3.757066 -2.756372 -0.176192  0.567983  ...  0.759584 -0.242020 -0.369484        0\n",
       "4  1.008908 -0.869831  2.026688 -0.409766  ... -0.525945 -0.216664 -0.079364        0\n",
       "\n",
       "[5 rows x 14 columns]"
      ]
     },
     "execution_count": 125,
     "metadata": {},
     "output_type": "execute_result"
    }
   ],
   "source": [
    "#PCA SOBRE OS DADOS DA WINE_DATA\n",
    "\n",
    "pca = PCA(n_components=13)\n",
    "\n",
    "principal_components = pca.fit_transform(wine_std_normalization)\n",
    "principal_df = pd.DataFrame(data = principal_components, columns = ['PC 1', 'PC 2', 'PC 3', 'PC 4', 'PC 5', 'PC 6', 'PC 7', 'PC 8', 'PC 9', 'PC 10', 'PC 11', 'PC 12', 'PC 13'])\n",
    "final_df = pd.concat([principal_df, wine_target[['classes']]], axis = 1)\n",
    "final_df.head()\n",
    "\n",
    "# principal_rbt_components = pca.fit_transform(wine_rbt_normalization)\n",
    "# principal_rbt_Df = pd.DataFrame(data = principal_rbt_components, columns = ['PC 1', 'PC 2', 'PC 3', 'PC 4', 'PC 5', 'PC 6', 'PC 7', 'PC 8', 'PC 9', 'PC 10', 'PC 11', 'PC 12', 'PC 13'])\n",
    "# final_rbt_Df = pd.concat([principalDf, wine_target[['classes']]], axis = 1)\n",
    "# final_rbt_Df.head()"
   ]
  },
  {
   "cell_type": "code",
   "execution_count": 126,
   "metadata": {
    "colab": {
     "base_uri": "https://localhost:8080/",
     "height": 285
    },
    "executionInfo": {
     "elapsed": 308,
     "status": "ok",
     "timestamp": 1642796659366,
     "user": {
      "displayName": "Amanda Keren Frois Cardoso",
      "photoUrl": "https://lh3.googleusercontent.com/a-/AOh14Gg0sRdE_vP8axpdT-cC4PkDqgdu4M5nD4x0YFHx=s64",
      "userId": "06260755892418085078"
     },
     "user_tz": 180
    },
    "id": "-eXGmVZFC2X7",
    "outputId": "ea692974-cc70-4312-e6b1-ac6edf6003ae"
   },
   "outputs": [
    {
     "data": {
      "text/plain": [
       "<matplotlib.axes._subplots.AxesSubplot at 0x7f30768a8210>"
      ]
     },
     "execution_count": 126,
     "metadata": {},
     "output_type": "execute_result"
    },
    {
     "data": {
      "image/png": "[encoded data removed]",
      "text/plain": [
       "<Figure size 432x288 with 1 Axes>"
      ]
     },
     "metadata": {},
     "output_type": "display_data"
    }
   ],
   "source": [
    "PC1, PC2, PC3, PC4, PC5, PC6, PC7, PC8, PC9, PC10, PC11, PC12, PC13 = pca.explained_variance_ratio_\n",
    "\n",
    "pd.DataFrame({\n",
    "   'variância': [PC1, PC2, PC3, PC4, PC5, PC6, PC7, PC8, PC9, PC10, PC11, PC12, PC13]\n",
    "   }, index=['PC 1', 'PC 2', 'PC 3', 'PC 4', 'PC 5', 'PC 6', 'PC 7', 'PC 8', 'PC 9', 'PC 10', 'PC 11', 'PC 12', 'PC 13']).plot.line()"
   ]
  },
  {
   "cell_type": "code",
   "execution_count": 129,
   "metadata": {
    "colab": {
     "base_uri": "https://localhost:8080/",
     "height": 465
    },
    "executionInfo": {
     "elapsed": 850,
     "status": "ok",
     "timestamp": 1642796676919,
     "user": {
      "displayName": "Amanda Keren Frois Cardoso",
      "photoUrl": "https://lh3.googleusercontent.com/a-/AOh14Gg0sRdE_vP8axpdT-cC4PkDqgdu4M5nD4x0YFHx=s64",
      "userId": "06260755892418085078"
     },
     "user_tz": 180
    },
    "id": "fYQPpiZFDqBD",
    "outputId": "ed3f366b-2cf5-46b6-c7ac-7414fb9fbb68"
   },
   "outputs": [
    {
     "data": {
      "image/png": "[encoded data removed]",
      "text/plain": [
       "<Figure size 2880x2880 with 1 Axes>"
      ]
     },
     "metadata": {},
     "output_type": "display_data"
    }
   ],
   "source": [
    "#GRÁFICO COM 2 PRINCIPAIS COMPONENTES E AS TRÊS CLASSES\n",
    "\n",
    "fig = plt.figure(figsize = (40,40))\n",
    "\n",
    "ax = fig.add_subplot(5,5,1) \n",
    "ax.set_xlabel('PC 1 ('+str(round(PC1,2))+ ')', fontsize = 15)\n",
    "ax.set_ylabel('PC 2 ('+str(round(PC2,2))+ ')', fontsize = 15)\n",
    "ax.set_title('PCA', fontsize = 20)\n",
    "targets = [0, 1, 2]\n",
    "colors = ['b', 'g', 'r']\n",
    "for target, color in zip(targets,colors):\n",
    "    indicesToKeep = final_df['classes'] == target\n",
    "    ax.scatter(final_df.loc[indicesToKeep, 'PC 1']\n",
    "               , final_df.loc[indicesToKeep, 'PC 2']\n",
    "               , c = color\n",
    "               , s = 50)\n",
    "                "
   ]
  },
  {
   "cell_type": "markdown",
   "metadata": {
    "id": "w8zR-lbVQuBd"
   },
   "source": [
    "# 4- CONSTRUINDO MODELOS DE APRENDIZADO (CLASSIFICAÇÃO):\n",
    "*   kNN\n",
    "*   Árvore de decisão\n",
    "*   Random Forest\n",
    "\n",
    "Apresentando:\n",
    "*   Métricas de desempenho\n",
    "*   Matriz de confusão\n"
   ]
  },
  {
   "cell_type": "code",
   "execution_count": 147,
   "metadata": {
    "colab": {
     "base_uri": "https://localhost:8080/"
    },
    "executionInfo": {
     "elapsed": 268,
     "status": "ok",
     "timestamp": 1642797283892,
     "user": {
      "displayName": "Amanda Keren Frois Cardoso",
      "photoUrl": "https://lh3.googleusercontent.com/a-/AOh14Gg0sRdE_vP8axpdT-cC4PkDqgdu4M5nD4x0YFHx=s64",
      "userId": "06260755892418085078"
     },
     "user_tz": 180
    },
    "id": "bSpWpWTXE92T",
    "outputId": "f4d24ff6-fd41-4ba3-d6d9-e7985d5bddce"
   },
   "outputs": [
    {
     "name": "stdout",
     "output_type": "stream",
     "text": [
      "[0 2 0 0 0 0 2 0 0 2 0 0 0 0 0 0 0 0 2 1 1 1 1 1 2 1 1 1 1 1 1 2 1 2 1 2 1\n",
      " 1 2 1 0 1 2 1]\n"
     ]
    }
   ],
   "source": [
    "#MODELO DE APRENDIZADO KNN\n",
    "\n",
    "knn = KNeighborsClassifier(n_neighbors=5)\n",
    "knn.fit(amostras_treino, rotulos_treino)\n",
    "KNeighborsClassifier()\n",
    "\n",
    "resultado_knn = knn.predict(amostras_teste)\n",
    "\n",
    "print(resultado_knn)"
   ]
  },
  {
   "cell_type": "code",
   "execution_count": 177,
   "metadata": {
    "colab": {
     "base_uri": "https://localhost:8080/"
    },
    "executionInfo": {
     "elapsed": 272,
     "status": "ok",
     "timestamp": 1642798252534,
     "user": {
      "displayName": "Amanda Keren Frois Cardoso",
      "photoUrl": "https://lh3.googleusercontent.com/a-/AOh14Gg0sRdE_vP8axpdT-cC4PkDqgdu4M5nD4x0YFHx=s64",
      "userId": "06260755892418085078"
     },
     "user_tz": 180
    },
    "id": "ZouhLAFVVmOv",
    "outputId": "1509d955-939d-4e3d-c28c-ab4559934307"
   },
   "outputs": [
    {
     "name": "stdout",
     "output_type": "stream",
     "text": [
      "|--- feature_9 <= 3.82\n",
      "|   |--- feature_2 <= 3.07\n",
      "|   |   |--- feature_12 <= 1002.50\n",
      "|   |   |   |--- class: 1\n",
      "|   |   |--- feature_12 >  1002.50\n",
      "|   |   |   |--- class: 0\n",
      "|   |--- feature_2 >  3.07\n",
      "|   |   |--- class: 0\n",
      "|--- feature_9 >  3.82\n",
      "|   |--- feature_6 <= 1.79\n",
      "|   |   |--- feature_2 <= 2.06\n",
      "|   |   |   |--- class: 1\n",
      "|   |   |--- feature_2 >  2.06\n",
      "|   |   |   |--- class: 2\n",
      "|   |--- feature_6 >  1.79\n",
      "|   |   |--- feature_12 <= 742.00\n",
      "|   |   |   |--- feature_1 <= 3.01\n",
      "|   |   |   |   |--- class: 1\n",
      "|   |   |   |--- feature_1 >  3.01\n",
      "|   |   |   |   |--- class: 0\n",
      "|   |   |--- feature_12 >  742.00\n",
      "|   |   |   |--- class: 0\n",
      "\n"
     ]
    },
    {
     "data": {
      "text/plain": [
       "array([0, 1, 0, 0, 0, 0, 0, 0, 0, 1, 0, 0, 0, 0, 0, 0, 0, 0, 1, 1, 1, 1,\n",
       "       2, 1, 1, 1, 1, 1, 1, 1, 1, 1, 1, 2, 2, 2, 2, 2, 2, 2, 2, 2, 2, 2],\n",
       "      dtype=int8)"
      ]
     },
     "execution_count": 177,
     "metadata": {},
     "output_type": "execute_result"
    }
   ],
   "source": [
    "# MODELO DE APRENDIZADO ÁRVORE DE DECISÃO\n",
    "\n",
    "tree = DecisionTreeClassifier(random_state=1234)\n",
    "tree_model = clf.fit(amostras_treino, rotulos_treino)\n",
    "\n",
    "#criando representação da árvore em texto\n",
    "text_representation = tree.export_text(clf)\n",
    "print(text_representation)\n",
    "\n",
    "#testando o modelo nos dados de teste\n",
    "resultado_tree = clf.predict(amostras_teste)\n",
    "resultado_tree"
   ]
  },
  {
   "cell_type": "code",
   "execution_count": 186,
   "metadata": {
    "colab": {
     "base_uri": "https://localhost:8080/"
    },
    "executionInfo": {
     "elapsed": 275,
     "status": "ok",
     "timestamp": 1642798510336,
     "user": {
      "displayName": "Amanda Keren Frois Cardoso",
      "photoUrl": "https://lh3.googleusercontent.com/a-/AOh14Gg0sRdE_vP8axpdT-cC4PkDqgdu4M5nD4x0YFHx=s64",
      "userId": "06260755892418085078"
     },
     "user_tz": 180
    },
    "id": "OeI1RCr5E9zn",
    "outputId": "9e78e704-cbed-4baf-c629-38b19659375d"
   },
   "outputs": [
    {
     "name": "stdout",
     "output_type": "stream",
     "text": [
      "[0 0 0 0 0 0 0 0 0 0 0 0 0 0 0 0 0 0 1 1 1 1 2 1 1 1 1 1 1 1 1 1 1 2 2 2 2\n",
      " 2 2 2 2 2 2 2]\n"
     ]
    }
   ],
   "source": [
    "# MODELO DE APRENDIZADO RANDOM FOREST\n",
    "\n",
    "rf = RandomForestClassifier().fit(amostras_treino, rotulos_treino)\n",
    "resultado_rf = rf.predict(amostras_teste)\n",
    "\n",
    "print(resultado_rf)"
   ]
  },
  {
   "cell_type": "code",
   "execution_count": 255,
   "metadata": {
    "colab": {
     "base_uri": "https://localhost:8080/"
    },
    "executionInfo": {
     "elapsed": 284,
     "status": "ok",
     "timestamp": 1642801231785,
     "user": {
      "displayName": "Amanda Keren Frois Cardoso",
      "photoUrl": "https://lh3.googleusercontent.com/a-/AOh14Gg0sRdE_vP8axpdT-cC4PkDqgdu4M5nD4x0YFHx=s64",
      "userId": "06260755892418085078"
     },
     "user_tz": 180
    },
    "id": "IThTwFRecJZJ",
    "outputId": "8d08677d-0560-4ad8-dfdc-74128cdd8a0a"
   },
   "outputs": [
    {
     "name": "stdout",
     "output_type": "stream",
     "text": [
      "MÉTRICAS DE DESEMPENHO\n",
      "\n",
      "\n",
      "Accuracy Score - kNN\t Accuracy Score - ÁRVORE DE DECISÃO\t Accuracy Score - RANDOM FOREST\n",
      " 0.9318181818181818 \t\t 0.9318181818181818 \t\t\t 0.9772727272727273 \n",
      "\n",
      "\n",
      "Classification Report - kNN\n",
      "               precision    recall  f1-score   support\n",
      "\n",
      "           0       1.00      0.89      0.94        18\n",
      "           1       0.88      0.93      0.90        15\n",
      "           2       0.92      1.00      0.96        11\n",
      "\n",
      "    accuracy                           0.93        44\n",
      "   macro avg       0.93      0.94      0.93        44\n",
      "weighted avg       0.94      0.93      0.93        44\n",
      " \n",
      "\n",
      "Classification Report - ÁRVORE DE DECISÃO\n",
      "               precision    recall  f1-score   support\n",
      "\n",
      "           0       1.00      0.89      0.94        18\n",
      "           1       0.88      0.93      0.90        15\n",
      "           2       0.92      1.00      0.96        11\n",
      "\n",
      "    accuracy                           0.93        44\n",
      "   macro avg       0.93      0.94      0.93        44\n",
      "weighted avg       0.94      0.93      0.93        44\n",
      " \n",
      "\n",
      "Classification Report - RANDOM FOREST\n",
      "               precision    recall  f1-score   support\n",
      "\n",
      "           0       1.00      1.00      1.00        18\n",
      "           1       1.00      0.93      0.97        15\n",
      "           2       0.92      1.00      0.96        11\n",
      "\n",
      "    accuracy                           0.98        44\n",
      "   macro avg       0.97      0.98      0.97        44\n",
      "weighted avg       0.98      0.98      0.98        44\n",
      " \n",
      "\n",
      "[[18  0  0]\n",
      " [ 0 14  1]\n",
      " [ 0  0 11]]\n"
     ]
    }
   ],
   "source": [
    "#COMPARAÇÃO DE MÉTRICAS DE DESEMPENHO \n",
    "\n",
    "print(\"MÉTRICAS DE DESEMPENHO\\n\\n\")\n",
    "\n",
    "print(\"Accuracy Score - kNN\\t\",\"Accuracy Score - ÁRVORE DE DECISÃO\\t\",\"Accuracy Score - RANDOM FOREST\\n\",\n",
    "      accuracy_score(rotulos_teste, resultado_knn),\"\\t\\t\",accuracy_score(rotulos_teste, resultado_tree),\"\\t\\t\\t\",accuracy_score(rotulos_teste, resultado_rf),\"\\n\\n\")\n",
    "\n",
    "\n",
    "print(\"Classification Report - kNN\\n\",classification_report(rotulos_teste, resultado_knn),\"\\n\")\n",
    "\n",
    "print(\"Classification Report - ÁRVORE DE DECISÃO\\n\",classification_report(rotulos_teste, resultado_tree),\"\\n\")\n",
    "\n",
    "print(\"Classification Report - RANDOM FOREST\\n\",classification_report(rotulos_teste, resultado_rf),\"\\n\")\n",
    "\n",
    "\n",
    "print(confusion_matrix(rotulos_teste, resultado_rf))"
   ]
  },
  {
   "cell_type": "code",
   "execution_count": 253,
   "metadata": {
    "colab": {
     "base_uri": "https://localhost:8080/",
     "height": 633
    },
    "executionInfo": {
     "elapsed": 1472,
     "status": "ok",
     "timestamp": 1642800875436,
     "user": {
      "displayName": "Amanda Keren Frois Cardoso",
      "photoUrl": "https://lh3.googleusercontent.com/a-/AOh14Gg0sRdE_vP8axpdT-cC4PkDqgdu4M5nD4x0YFHx=s64",
      "userId": "06260755892418085078"
     },
     "user_tz": 180
    },
    "id": "DONacgc8WdfS",
    "outputId": "970b9b45-a723-4e12-a598-3f850d05a7e7"
   },
   "outputs": [
    {
     "name": "stderr",
     "output_type": "stream",
     "text": [
      "/usr/local/lib/python3.7/dist-packages/sklearn/utils/deprecation.py:87: FutureWarning: Function plot_confusion_matrix is deprecated; Function `plot_confusion_matrix` is deprecated in 1.0 and will be removed in 1.2. Use one of the class methods: ConfusionMatrixDisplay.from_predictions or ConfusionMatrixDisplay.from_estimator.\n",
      "  warnings.warn(msg, category=FutureWarning)\n",
      "/usr/local/lib/python3.7/dist-packages/sklearn/utils/deprecation.py:87: FutureWarning: Function plot_confusion_matrix is deprecated; Function `plot_confusion_matrix` is deprecated in 1.0 and will be removed in 1.2. Use one of the class methods: ConfusionMatrixDisplay.from_predictions or ConfusionMatrixDisplay.from_estimator.\n",
      "  warnings.warn(msg, category=FutureWarning)\n",
      "/usr/local/lib/python3.7/dist-packages/sklearn/utils/deprecation.py:87: FutureWarning: Function plot_confusion_matrix is deprecated; Function `plot_confusion_matrix` is deprecated in 1.0 and will be removed in 1.2. Use one of the class methods: ConfusionMatrixDisplay.from_predictions or ConfusionMatrixDisplay.from_estimator.\n",
      "  warnings.warn(msg, category=FutureWarning)\n"
     ]
    },
    {
     "data": {
      "image/png": "[encoded data removed]",
      "text/plain": [
       "<Figure size 1512x504 with 6 Axes>"
      ]
     },
     "metadata": {},
     "output_type": "display_data"
    }
   ],
   "source": [
    "#CONFUSION MATRIX DOS CLASSIFICADORES\n",
    "\n",
    "classifiers = [KNeighborsClassifier(),\n",
    "               DecisionTreeClassifier(),\n",
    "               RandomForestClassifier()]\n",
    "\n",
    "for cls in classifiers:\n",
    "    cls.fit(amostras_treino, rotulos_treino)\n",
    "\n",
    "fig, axes = plt.subplots(nrows=1, ncols=3, figsize=(21,7))\n",
    "\n",
    "for cls, ax in zip(classifiers, axes.flatten()):\n",
    "    plot_confusion_matrix(cls, \n",
    "                          amostras_teste, \n",
    "                          rotulos_teste, \n",
    "                          ax=ax, \n",
    "                          display_labels=wine_target['classes'].iloc[~indices[:corte]],\n",
    "                          cmap=plt.cm.Reds,\n",
    "                          normalize=\"true\")\n",
    "    ax.title.set_text(type(cls).__name__)\n",
    "plt.tight_layout()  \n",
    "plt.show()\n",
    "\n"
   ]
  },
  {
   "cell_type": "markdown",
   "metadata": {
    "id": "zzE52AeQkLRx"
   },
   "source": [
    "# Resultado:\n",
    "\n",
    "O modelo com melhor desempenho foi o RandomForest, que nas classificações realizadas classificou corretamente, na amostra teste (44), 43 dos dados, praticamente 100% de acurácia, enquanto os doutros dois classificadores se comportaram bem parecidos, obtendo 93% de acurácia. Podemos ver na matrix de confusão que o RF classificou erroneamente apenas 1 valor, considerando da classe 3 uma amostra da classe 2. \n",
    "\n",
    "A atividade de classificação resultou em altos valores de acurácia e precisão, o que pode ser resultado de um pequeno volume dos dados, já que tem menos de 200 linhas. \n"
   ]
  },
  {
   "cell_type": "markdown",
   "metadata": {
    "id": "FprhtXNgmgio"
   },
   "source": [
    "\n",
    "\n",
    "---\n",
    "\n",
    "\n",
    "\n",
    "---\n",
    "\n",
    "\n",
    "\n",
    "---\n",
    "\n",
    "\n"
   ]
  },
  {
   "cell_type": "markdown",
   "metadata": {
    "id": "B3JxaR6qf020"
   },
   "source": [
    "# Exercício 2 - Regressão\n",
    "\n",
    "Neste exercício, vamos trabalhar com o conjunto de dados Diabetes (carregado abaixo). Você deve escrever o código para executar as seguintes tarefas:\n",
    "\n",
    "<br>1- Separar as observações e rótulos em dois conjuntos (treino e teste) de acordo com o método hold-out (75/25)\n",
    "<br>2- Construir modelos de aprendizado (regressão) de acordo com os seguintes algoritmos: Random Forest, SVM (kernels linear, RBF e polinomial). \n",
    "<br>3- Testar o desempenho dos quatro modelos, imprimindo na tela um gráfico que mostre as predições e os dados reais. Imprimir também na tela o RMSE alcançado por cada um dos 4 modelos. "
   ]
  },
  {
   "cell_type": "code",
   "execution_count": 5,
   "metadata": {
    "colab": {
     "base_uri": "https://localhost:8080/",
     "height": 270
    },
    "executionInfo": {
     "elapsed": 418,
     "status": "ok",
     "timestamp": 1642807461310,
     "user": {
      "displayName": "Amanda Keren Frois Cardoso",
      "photoUrl": "https://lh3.googleusercontent.com/a-/AOh14Gg0sRdE_vP8axpdT-cC4PkDqgdu4M5nD4x0YFHx=s64",
      "userId": "06260755892418085078"
     },
     "user_tz": 180
    },
    "id": "J87ZFkVRf4l0",
    "outputId": "1621fa0f-23e5-4298-b1e6-634943c0f067"
   },
   "outputs": [
    {
     "data": {
      "text/html": [
       "\n",
       "  <div id=\"df-0c49e92f-d361-40b1-ae99-6db286bcbf56\">\n",
       "    <div class=\"colab-df-container\">\n",
       "      <div>\n",
       "<style scoped>\n",
       "    .dataframe tbody tr th:only-of-type {\n",
       "        vertical-align: middle;\n",
       "    }\n",
       "\n",
       "    .dataframe tbody tr th {\n",
       "        vertical-align: top;\n",
       "    }\n",
       "\n",
       "    .dataframe thead th {\n",
       "        text-align: right;\n",
       "    }\n",
       "</style>\n",
       "<table border=\"1\" class=\"dataframe\">\n",
       "  <thead>\n",
       "    <tr style=\"text-align: right;\">\n",
       "      <th></th>\n",
       "      <th>age</th>\n",
       "      <th>sex</th>\n",
       "      <th>bmi</th>\n",
       "      <th>bp</th>\n",
       "      <th>s1</th>\n",
       "      <th>s2</th>\n",
       "      <th>s3</th>\n",
       "      <th>s4</th>\n",
       "      <th>s5</th>\n",
       "      <th>s6</th>\n",
       "    </tr>\n",
       "  </thead>\n",
       "  <tbody>\n",
       "    <tr>\n",
       "      <th>0</th>\n",
       "      <td>0.038076</td>\n",
       "      <td>0.050680</td>\n",
       "      <td>0.061696</td>\n",
       "      <td>0.021872</td>\n",
       "      <td>-0.044223</td>\n",
       "      <td>-0.034821</td>\n",
       "      <td>-0.043401</td>\n",
       "      <td>-0.002592</td>\n",
       "      <td>0.019908</td>\n",
       "      <td>-0.017646</td>\n",
       "    </tr>\n",
       "    <tr>\n",
       "      <th>1</th>\n",
       "      <td>-0.001882</td>\n",
       "      <td>-0.044642</td>\n",
       "      <td>-0.051474</td>\n",
       "      <td>-0.026328</td>\n",
       "      <td>-0.008449</td>\n",
       "      <td>-0.019163</td>\n",
       "      <td>0.074412</td>\n",
       "      <td>-0.039493</td>\n",
       "      <td>-0.068330</td>\n",
       "      <td>-0.092204</td>\n",
       "    </tr>\n",
       "    <tr>\n",
       "      <th>2</th>\n",
       "      <td>0.085299</td>\n",
       "      <td>0.050680</td>\n",
       "      <td>0.044451</td>\n",
       "      <td>-0.005671</td>\n",
       "      <td>-0.045599</td>\n",
       "      <td>-0.034194</td>\n",
       "      <td>-0.032356</td>\n",
       "      <td>-0.002592</td>\n",
       "      <td>0.002864</td>\n",
       "      <td>-0.025930</td>\n",
       "    </tr>\n",
       "    <tr>\n",
       "      <th>3</th>\n",
       "      <td>-0.089063</td>\n",
       "      <td>-0.044642</td>\n",
       "      <td>-0.011595</td>\n",
       "      <td>-0.036656</td>\n",
       "      <td>0.012191</td>\n",
       "      <td>0.024991</td>\n",
       "      <td>-0.036038</td>\n",
       "      <td>0.034309</td>\n",
       "      <td>0.022692</td>\n",
       "      <td>-0.009362</td>\n",
       "    </tr>\n",
       "    <tr>\n",
       "      <th>4</th>\n",
       "      <td>0.005383</td>\n",
       "      <td>-0.044642</td>\n",
       "      <td>-0.036385</td>\n",
       "      <td>0.021872</td>\n",
       "      <td>0.003935</td>\n",
       "      <td>0.015596</td>\n",
       "      <td>0.008142</td>\n",
       "      <td>-0.002592</td>\n",
       "      <td>-0.031991</td>\n",
       "      <td>-0.046641</td>\n",
       "    </tr>\n",
       "  </tbody>\n",
       "</table>\n",
       "</div>\n",
       "      <button class=\"colab-df-convert\" onclick=\"convertToInteractive('df-0c49e92f-d361-40b1-ae99-6db286bcbf56')\"\n",
       "              title=\"Convert this dataframe to an interactive table.\"\n",
       "              style=\"display:none;\">\n",
       "        \n",
       "  <svg xmlns=\"http://www.w3.org/2000/svg\" height=\"24px\"viewBox=\"0 0 24 24\"\n",
       "       width=\"24px\">\n",
       "    <path d=\"M0 0h24v24H0V0z\" fill=\"none\"/>\n",
       "    <path d=\"M18.56 5.44l.94 2.06.94-2.06 2.06-.94-2.06-.94-.94-2.06-.94 2.06-2.06.94zm-11 1L8.5 8.5l.94-2.06 2.06-.94-2.06-.94L8.5 2.5l-.94 2.06-2.06.94zm10 10l.94 2.06.94-2.06 2.06-.94-2.06-.94-.94-2.06-.94 2.06-2.06.94z\"/><path d=\"M17.41 7.96l-1.37-1.37c-.4-.4-.92-.59-1.43-.59-.52 0-1.04.2-1.43.59L10.3 9.45l-7.72 7.72c-.78.78-.78 2.05 0 2.83L4 21.41c.39.39.9.59 1.41.59.51 0 1.02-.2 1.41-.59l7.78-7.78 2.81-2.81c.8-.78.8-2.07 0-2.86zM5.41 20L4 18.59l7.72-7.72 1.47 1.35L5.41 20z\"/>\n",
       "  </svg>\n",
       "      </button>\n",
       "      \n",
       "  <style>\n",
       "    .colab-df-container {\n",
       "      display:flex;\n",
       "      flex-wrap:wrap;\n",
       "      gap: 12px;\n",
       "    }\n",
       "\n",
       "    .colab-df-convert {\n",
       "      background-color: #E8F0FE;\n",
       "      border: none;\n",
       "      border-radius: 50%;\n",
       "      cursor: pointer;\n",
       "      display: none;\n",
       "      fill: #1967D2;\n",
       "      height: 32px;\n",
       "      padding: 0 0 0 0;\n",
       "      width: 32px;\n",
       "    }\n",
       "\n",
       "    .colab-df-convert:hover {\n",
       "      background-color: #E2EBFA;\n",
       "      box-shadow: 0px 1px 2px rgba(60, 64, 67, 0.3), 0px 1px 3px 1px rgba(60, 64, 67, 0.15);\n",
       "      fill: #174EA6;\n",
       "    }\n",
       "\n",
       "    [theme=dark] .colab-df-convert {\n",
       "      background-color: #3B4455;\n",
       "      fill: #D2E3FC;\n",
       "    }\n",
       "\n",
       "    [theme=dark] .colab-df-convert:hover {\n",
       "      background-color: #434B5C;\n",
       "      box-shadow: 0px 1px 3px 1px rgba(0, 0, 0, 0.15);\n",
       "      filter: drop-shadow(0px 1px 2px rgba(0, 0, 0, 0.3));\n",
       "      fill: #FFFFFF;\n",
       "    }\n",
       "  </style>\n",
       "\n",
       "      <script>\n",
       "        const buttonEl =\n",
       "          document.querySelector('#df-0c49e92f-d361-40b1-ae99-6db286bcbf56 button.colab-df-convert');\n",
       "        buttonEl.style.display =\n",
       "          google.colab.kernel.accessAllowed ? 'block' : 'none';\n",
       "\n",
       "        async function convertToInteractive(key) {\n",
       "          const element = document.querySelector('#df-0c49e92f-d361-40b1-ae99-6db286bcbf56');\n",
       "          const dataTable =\n",
       "            await google.colab.kernel.invokeFunction('convertToInteractive',\n",
       "                                                     [key], {});\n",
       "          if (!dataTable) return;\n",
       "\n",
       "          const docLinkHtml = 'Like what you see? Visit the ' +\n",
       "            '<a target=\"_blank\" href=https://colab.research.google.com/notebooks/data_table.ipynb>data table notebook</a>'\n",
       "            + ' to learn more about interactive tables.';\n",
       "          element.innerHTML = '';\n",
       "          dataTable['output_type'] = 'display_data';\n",
       "          await google.colab.output.renderOutput(dataTable, element);\n",
       "          const docLink = document.createElement('div');\n",
       "          docLink.innerHTML = docLinkHtml;\n",
       "          element.appendChild(docLink);\n",
       "        }\n",
       "      </script>\n",
       "    </div>\n",
       "  </div>\n",
       "  "
      ],
      "text/plain": [
       "        age       sex       bmi  ...        s4        s5        s6\n",
       "0  0.038076  0.050680  0.061696  ... -0.002592  0.019908 -0.017646\n",
       "1 -0.001882 -0.044642 -0.051474  ... -0.039493 -0.068330 -0.092204\n",
       "2  0.085299  0.050680  0.044451  ... -0.002592  0.002864 -0.025930\n",
       "3 -0.089063 -0.044642 -0.011595  ...  0.034309  0.022692 -0.009362\n",
       "4  0.005383 -0.044642 -0.036385  ... -0.002592 -0.031991 -0.046641\n",
       "\n",
       "[5 rows x 10 columns]"
      ]
     },
     "execution_count": 5,
     "metadata": {},
     "output_type": "execute_result"
    }
   ],
   "source": [
    "import pandas as pd\n",
    "import numpy as np\n",
    "from sklearn import datasets\n",
    "from sklearn.model_selection import train_test_split\n",
    "from sklearn.ensemble import RandomForestRegressor\n",
    "from sklearn.metrics import r2_score\n",
    "from sklearn import svm\n",
    "import matplotlib.pyplot as plt\n",
    "\n",
    "diabetes_data, diabetes_target = datasets.load_diabetes(return_X_y=True, as_frame=True)\n",
    "\n",
    "diabetes_target = pd.DataFrame({'values':diabetes_target.values})\n",
    "\n",
    "diabetes_data.head()"
   ]
  },
  {
   "cell_type": "markdown",
   "metadata": {
    "id": "ZP3SA_wBnrMj"
   },
   "source": [
    "# 1 - SEPARANDO OS DADOS EM CONJUNTOS DE TREINO E TESTE\n",
    "Método hold-out 75:25"
   ]
  },
  {
   "cell_type": "code",
   "execution_count": 6,
   "metadata": {
    "executionInfo": {
     "elapsed": 360,
     "status": "ok",
     "timestamp": 1642807465194,
     "user": {
      "displayName": "Amanda Keren Frois Cardoso",
      "photoUrl": "https://lh3.googleusercontent.com/a-/AOh14Gg0sRdE_vP8axpdT-cC4PkDqgdu4M5nD4x0YFHx=s64",
      "userId": "06260755892418085078"
     },
     "user_tz": 180
    },
    "id": "wMLXHPeuyFWt"
   },
   "outputs": [],
   "source": [
    "# Separando a amostra em treino e test com uso do método hold-out train_test_split\n",
    "diabetes_all = pd.concat([diabetes_data, diabetes_target['values']], axis=1)\n",
    "diabetes_train, diabetes_test= train_test_split(diabetes_all,test_size=0.25)\n",
    "\n",
    "amostra_treino=diabetes_train.drop(\"values\", axis=1)\n",
    "rotulo_treino=np.array(diabetes_train['values'])\n",
    "\n",
    "amostra_teste=diabetes_test.drop(\"values\", axis=1)\n",
    "rotulo_teste=np.array(diabetes_test['values'])"
   ]
  },
  {
   "cell_type": "markdown",
   "metadata": {
    "id": "Qcs-stAvps_O"
   },
   "source": [
    "# 2 - CONSTRUINDO MODELOS DE REGRESSÃO: \n",
    "*   Random Forest\n",
    "*   SVM Linear\n",
    "*   SVM RBF\n",
    "*   SVM Polinomial\n"
   ]
  },
  {
   "cell_type": "code",
   "execution_count": 31,
   "metadata": {
    "executionInfo": {
     "elapsed": 713,
     "status": "ok",
     "timestamp": 1642808217936,
     "user": {
      "displayName": "Amanda Keren Frois Cardoso",
      "photoUrl": "https://lh3.googleusercontent.com/a-/AOh14Gg0sRdE_vP8axpdT-cC4PkDqgdu4M5nD4x0YFHx=s64",
      "userId": "06260755892418085078"
     },
     "user_tz": 180
    },
    "id": "SMPgllds5oHW"
   },
   "outputs": [],
   "source": [
    "#Random Forest\n",
    "rf = RandomForestRegressor().fit(amostra_treino.select_dtypes([np.number]),rotulo_treino)\n",
    "resultado_rf = rf.predict(amostra_teste.select_dtypes([np.number])) # Prevendo o conjunto de teste\n",
    "error_poly = np.mean((resultado_poly-rotulo_teste)**2)**(1/2) #RMSE\n",
    "\n",
    "#SVM Linear\n",
    "svr_lin = svm.SVR(kernel='linear').fit(amostra_treino.select_dtypes([np.number]), rotulo_treino)\n",
    "resultado_linear = svr_lin.predict(amostra_teste.select_dtypes([np.number]))\n",
    "error_linear = np.mean((resultado_linear-rotulo_teste)**2)**(1/2) #RMSE\n",
    "\n",
    "#SVM RBF\n",
    "svr_rbf = svm.SVR(kernel='rbf').fit(amostra_treino.select_dtypes([np.number]), rotulo_treino)\n",
    "resultado_rbf = svr_rbf.predict(amostra_teste.select_dtypes([np.number])) # Prevendo o conjunto de teste\n",
    "error_rbf = np.mean((resultado_rbf-rotulo_teste)**2)**(1/2) #RMSE\n",
    "\n",
    "#SVM Polinomial\n",
    "svr_poly = svm.SVR(kernel='poly', degree=10).fit(amostra_treino.select_dtypes([np.number]), rotulo_treino) #degree=5\n",
    "resultado_poly = svr_poly.predict(amostra_teste.select_dtypes([np.number])) # Prevendo o conjunto de teste\n",
    "error_poly = np.mean((resultado_poly-rotulo_teste)**2)**(1/2) #RMSE\n"
   ]
  },
  {
   "cell_type": "code",
   "execution_count": 30,
   "metadata": {
    "colab": {
     "base_uri": "https://localhost:8080/",
     "height": 348
    },
    "executionInfo": {
     "elapsed": 694,
     "status": "ok",
     "timestamp": 1642808215623,
     "user": {
      "displayName": "Amanda Keren Frois Cardoso",
      "photoUrl": "https://lh3.googleusercontent.com/a-/AOh14Gg0sRdE_vP8axpdT-cC4PkDqgdu4M5nD4x0YFHx=s64",
      "userId": "06260755892418085078"
     },
     "user_tz": 180
    },
    "id": "vzWBKtIC319Z",
    "outputId": "4367278c-472a-482c-e249-39db29a7ed8b"
   },
   "outputs": [
    {
     "data": {
      "text/plain": [
       "<matplotlib.legend.Legend at 0x7f117e1ab710>"
      ]
     },
     "execution_count": 30,
     "metadata": {},
     "output_type": "execute_result"
    },
    {
     "data": {
      "image/png": "[encoded data removed]",
      "text/plain": [
       "<Figure size 1008x432 with 1 Axes>"
      ]
     },
     "metadata": {
      "needs_background": "light"
     },
     "output_type": "display_data"
    }
   ],
   "source": [
    "#Gráfico \n",
    "plt.figure(figsize=(14,6))\n",
    "plt.plot(resultado_rf, label=\"RF (RMSE:\"+str(round(error_rf,2))+\")\", color=\"C6\")\n",
    "plt.plot(resultado_linear, label=\"SVM Linear (RMSE:\"+str(round(error_linear,2))+\")\", color=\"C2\")\n",
    "plt.plot(resultado_rbf, label=\"SVM RBF (RMSE:\"+str(round(error_rbf,2))+\")\", color=\"C4\")\n",
    "plt.plot(resultado_poly, label=\"SVM Polinomial (RMSE:\"+str(round(error_poly,2))+\")\", color=\"C3\")\n",
    "plt.scatter(range(0,amostra_teste.index.size), rotulo_teste, s=3, color=\"C1\")\n",
    "plt.legend()\n"
   ]
  },
  {
   "cell_type": "markdown",
   "metadata": {
    "id": "IiS32FXl-q26"
   },
   "source": [
    "# Resultado:\n",
    "\n",
    "O melohr modelo de regressão entre os apresentados é o Random Forest, cujo RMSE é de 21,46, em comparação com os outros de SVM que ultrapassam os 70.\n",
    "\n"
   ]
  },
  {
   "cell_type": "markdown",
   "metadata": {
    "id": "F77Le2OEA1Ml"
   },
   "source": [
    "\n",
    "\n",
    "---\n",
    "\n",
    "\n",
    "\n",
    "---\n",
    "\n",
    "\n",
    "\n",
    "---\n",
    "\n",
    "\n"
   ]
  },
  {
   "cell_type": "markdown",
   "metadata": {
    "id": "kus-ma6wkvAu"
   },
   "source": [
    "# Exercício 3 - Clusterização\n",
    "\n",
    "Neste exercício, vamos trabalhar com um conjunto de dados gerado sinteticamente (abaixo). Você deve escrever o código para executar as seguintes tarefas:\n",
    "\n",
    "<br>1- Fazer o gráfico de K distance para descobrir um valor de epsilon adequado a ser utilizado no DBSCAN. Qual valor você escolheu?\n",
    "<br>2- Executar o DBSCAN com valores padrão para os parâmetros. \n",
    "<br>3- Apresentar gráfico em duas dimensões que mostre os pontos no espaço de busca. Cada ponto deve ser colorido de acordo com o cluster ao qual ele foi associado. A cor também pode indicar que ele é um outlier. \n",
    "<br>4- Executar o DBSCAN com o valor de epsilon escolhido no passo 1.\n",
    "<br>5- Apresentar gráfico em duas dimensões que mostre os pontos no espaço de busca. Cada ponto deve ser colorido de acordo com o cluster ao qual ele foi associado. A cor também pode indicar que ele é um outlier. \n",
    "\n",
    "<br>Qual é a diferença entre os resultados obtidos com o epsilon padrão e o epsilon escolhido por você? Pensando no funcionamento do algoritmo, porque temos esta diferença?"
   ]
  },
  {
   "cell_type": "code",
   "execution_count": 61,
   "metadata": {
    "colab": {
     "base_uri": "https://localhost:8080/",
     "height": 206
    },
    "executionInfo": {
     "elapsed": 277,
     "status": "ok",
     "timestamp": 1642809896181,
     "user": {
      "displayName": "Amanda Keren Frois Cardoso",
      "photoUrl": "https://lh3.googleusercontent.com/a-/AOh14Gg0sRdE_vP8axpdT-cC4PkDqgdu4M5nD4x0YFHx=s64",
      "userId": "06260755892418085078"
     },
     "user_tz": 180
    },
    "id": "xwV7_zN4k2iH",
    "outputId": "1086c30b-44bf-428e-d537-e86d054612ee"
   },
   "outputs": [
    {
     "data": {
      "text/html": [
       "\n",
       "  <div id=\"df-4dc0c4ff-1235-4dbb-a32d-cf477c0ba9ad\">\n",
       "    <div class=\"colab-df-container\">\n",
       "      <div>\n",
       "<style scoped>\n",
       "    .dataframe tbody tr th:only-of-type {\n",
       "        vertical-align: middle;\n",
       "    }\n",
       "\n",
       "    .dataframe tbody tr th {\n",
       "        vertical-align: top;\n",
       "    }\n",
       "\n",
       "    .dataframe thead th {\n",
       "        text-align: right;\n",
       "    }\n",
       "</style>\n",
       "<table border=\"1\" class=\"dataframe\">\n",
       "  <thead>\n",
       "    <tr style=\"text-align: right;\">\n",
       "      <th></th>\n",
       "      <th>0</th>\n",
       "      <th>1</th>\n",
       "    </tr>\n",
       "  </thead>\n",
       "  <tbody>\n",
       "    <tr>\n",
       "      <th>0</th>\n",
       "      <td>3.709817</td>\n",
       "      <td>3.274596</td>\n",
       "    </tr>\n",
       "    <tr>\n",
       "      <th>1</th>\n",
       "      <td>2.564165</td>\n",
       "      <td>2.425842</td>\n",
       "    </tr>\n",
       "    <tr>\n",
       "      <th>2</th>\n",
       "      <td>5.555489</td>\n",
       "      <td>7.465769</td>\n",
       "    </tr>\n",
       "    <tr>\n",
       "      <th>3</th>\n",
       "      <td>7.686862</td>\n",
       "      <td>7.137155</td>\n",
       "    </tr>\n",
       "    <tr>\n",
       "      <th>4</th>\n",
       "      <td>2.628173</td>\n",
       "      <td>3.595054</td>\n",
       "    </tr>\n",
       "  </tbody>\n",
       "</table>\n",
       "</div>\n",
       "      <button class=\"colab-df-convert\" onclick=\"convertToInteractive('df-4dc0c4ff-1235-4dbb-a32d-cf477c0ba9ad')\"\n",
       "              title=\"Convert this dataframe to an interactive table.\"\n",
       "              style=\"display:none;\">\n",
       "        \n",
       "  <svg xmlns=\"http://www.w3.org/2000/svg\" height=\"24px\"viewBox=\"0 0 24 24\"\n",
       "       width=\"24px\">\n",
       "    <path d=\"M0 0h24v24H0V0z\" fill=\"none\"/>\n",
       "    <path d=\"M18.56 5.44l.94 2.06.94-2.06 2.06-.94-2.06-.94-.94-2.06-.94 2.06-2.06.94zm-11 1L8.5 8.5l.94-2.06 2.06-.94-2.06-.94L8.5 2.5l-.94 2.06-2.06.94zm10 10l.94 2.06.94-2.06 2.06-.94-2.06-.94-.94-2.06-.94 2.06-2.06.94z\"/><path d=\"M17.41 7.96l-1.37-1.37c-.4-.4-.92-.59-1.43-.59-.52 0-1.04.2-1.43.59L10.3 9.45l-7.72 7.72c-.78.78-.78 2.05 0 2.83L4 21.41c.39.39.9.59 1.41.59.51 0 1.02-.2 1.41-.59l7.78-7.78 2.81-2.81c.8-.78.8-2.07 0-2.86zM5.41 20L4 18.59l7.72-7.72 1.47 1.35L5.41 20z\"/>\n",
       "  </svg>\n",
       "      </button>\n",
       "      \n",
       "  <style>\n",
       "    .colab-df-container {\n",
       "      display:flex;\n",
       "      flex-wrap:wrap;\n",
       "      gap: 12px;\n",
       "    }\n",
       "\n",
       "    .colab-df-convert {\n",
       "      background-color: #E8F0FE;\n",
       "      border: none;\n",
       "      border-radius: 50%;\n",
       "      cursor: pointer;\n",
       "      display: none;\n",
       "      fill: #1967D2;\n",
       "      height: 32px;\n",
       "      padding: 0 0 0 0;\n",
       "      width: 32px;\n",
       "    }\n",
       "\n",
       "    .colab-df-convert:hover {\n",
       "      background-color: #E2EBFA;\n",
       "      box-shadow: 0px 1px 2px rgba(60, 64, 67, 0.3), 0px 1px 3px 1px rgba(60, 64, 67, 0.15);\n",
       "      fill: #174EA6;\n",
       "    }\n",
       "\n",
       "    [theme=dark] .colab-df-convert {\n",
       "      background-color: #3B4455;\n",
       "      fill: #D2E3FC;\n",
       "    }\n",
       "\n",
       "    [theme=dark] .colab-df-convert:hover {\n",
       "      background-color: #434B5C;\n",
       "      box-shadow: 0px 1px 3px 1px rgba(0, 0, 0, 0.15);\n",
       "      filter: drop-shadow(0px 1px 2px rgba(0, 0, 0, 0.3));\n",
       "      fill: #FFFFFF;\n",
       "    }\n",
       "  </style>\n",
       "\n",
       "      <script>\n",
       "        const buttonEl =\n",
       "          document.querySelector('#df-4dc0c4ff-1235-4dbb-a32d-cf477c0ba9ad button.colab-df-convert');\n",
       "        buttonEl.style.display =\n",
       "          google.colab.kernel.accessAllowed ? 'block' : 'none';\n",
       "\n",
       "        async function convertToInteractive(key) {\n",
       "          const element = document.querySelector('#df-4dc0c4ff-1235-4dbb-a32d-cf477c0ba9ad');\n",
       "          const dataTable =\n",
       "            await google.colab.kernel.invokeFunction('convertToInteractive',\n",
       "                                                     [key], {});\n",
       "          if (!dataTable) return;\n",
       "\n",
       "          const docLinkHtml = 'Like what you see? Visit the ' +\n",
       "            '<a target=\"_blank\" href=https://colab.research.google.com/notebooks/data_table.ipynb>data table notebook</a>'\n",
       "            + ' to learn more about interactive tables.';\n",
       "          element.innerHTML = '';\n",
       "          dataTable['output_type'] = 'display_data';\n",
       "          await google.colab.output.renderOutput(dataTable, element);\n",
       "          const docLink = document.createElement('div');\n",
       "          docLink.innerHTML = docLinkHtml;\n",
       "          element.appendChild(docLink);\n",
       "        }\n",
       "      </script>\n",
       "    </div>\n",
       "  </div>\n",
       "  "
      ],
      "text/plain": [
       "          0         1\n",
       "0  3.709817  3.274596\n",
       "1  2.564165  2.425842\n",
       "2  5.555489  7.465769\n",
       "3  7.686862  7.137155\n",
       "4  2.628173  3.595054"
      ]
     },
     "execution_count": 61,
     "metadata": {},
     "output_type": "execute_result"
    }
   ],
   "source": [
    "import pandas as pd\n",
    "import numpy as np\n",
    "from sklearn.datasets import make_blobs\n",
    "import matplotlib.pyplot as plt\n",
    "import matplotlib\n",
    "from sklearn.neighbors import NearestNeighbors\n",
    "from sklearn.cluster import DBSCAN\n",
    "\n",
    "# Configuration options\n",
    "num_samples_total = 1000\n",
    "cluster_centers = [(3,3), (7,7)]\n",
    "num_classes = len(cluster_centers)\n",
    "\n",
    "# Generate data\n",
    "X, Y = make_blobs(n_samples = num_samples_total, centers = cluster_centers, n_features = num_classes, center_box=(0, 1), cluster_std = 0.5)\n",
    "\n",
    "pd.DataFrame(X).head()"
   ]
  },
  {
   "cell_type": "code",
   "execution_count": 49,
   "metadata": {
    "colab": {
     "base_uri": "https://localhost:8080/",
     "height": 358
    },
    "executionInfo": {
     "elapsed": 381,
     "status": "ok",
     "timestamp": 1642809327970,
     "user": {
      "displayName": "Amanda Keren Frois Cardoso",
      "photoUrl": "https://lh3.googleusercontent.com/a-/AOh14Gg0sRdE_vP8axpdT-cC4PkDqgdu4M5nD4x0YFHx=s64",
      "userId": "06260755892418085078"
     },
     "user_tz": 180
    },
    "id": "BYQGZt3PlmQI",
    "outputId": "46aeb0fb-2080-4dfb-d5c8-2081e0ca259b"
   },
   "outputs": [
    {
     "data": {
      "image/png": "[encoded data removed]",
      "text/plain": [
       "<Figure size 360x360 with 1 Axes>"
      ]
     },
     "metadata": {
      "needs_background": "light"
     },
     "output_type": "display_data"
    }
   ],
   "source": [
    "#Apresentando estes dados em um gráfico\n",
    "plt.figure(figsize=(5,5))\n",
    "plt.scatter(X[:,0],X[:,1],s=15,color='grey')\n",
    "plt.title('Dataset',fontsize=20)\n",
    "plt.xlabel('Feature 1',fontsize=14)\n",
    "plt.ylabel('Feature 2',fontsize=14)\n",
    "plt.show()"
   ]
  },
  {
   "cell_type": "markdown",
   "metadata": {
    "id": "RPyi2lZRCglF"
   },
   "source": [
    "# 1 - FAZENDO O GRÁFICO DE K-DISTANCE PARA DESCOBRIR O Y"
   ]
  },
  {
   "cell_type": "code",
   "execution_count": 54,
   "metadata": {
    "colab": {
     "base_uri": "https://localhost:8080/",
     "height": 480
    },
    "executionInfo": {
     "elapsed": 346,
     "status": "ok",
     "timestamp": 1642809579346,
     "user": {
      "displayName": "Amanda Keren Frois Cardoso",
      "photoUrl": "https://lh3.googleusercontent.com/a-/AOh14Gg0sRdE_vP8axpdT-cC4PkDqgdu4M5nD4x0YFHx=s64",
      "userId": "06260755892418085078"
     },
     "user_tz": 180
    },
    "id": "C_llBSpjBIGG",
    "outputId": "7b687484-9c93-445b-b9c7-e1d9130a71a2"
   },
   "outputs": [
    {
     "name": "stdout",
     "output_type": "stream",
     "text": [
      "[[0.         0.01543594]\n",
      " [0.         0.24455962]\n",
      " [0.         0.02334333]\n",
      " ...\n",
      " [0.         0.01573745]\n",
      " [0.         0.04206152]\n",
      " [0.         0.05178937]]\n"
     ]
    },
    {
     "data": {
      "image/png": "[encoded data removed]",
      "text/plain": [
       "<Figure size 720x360 with 1 Axes>"
      ]
     },
     "metadata": {
      "needs_background": "light"
     },
     "output_type": "display_data"
    }
   ],
   "source": [
    "#K DISTANCE GRAPH\n",
    "neigh = NearestNeighbors(n_neighbors=2)\n",
    "nbrs = neigh.fit(X)\n",
    "distances, indices = nbrs.kneighbors(X)\n",
    "\n",
    "print(distances)\n",
    "\n",
    "distances = np.sort(distances, axis=0)\n",
    "distances = distances[:,1]\n",
    "plt.figure(figsize=(10,5))\n",
    "plt.plot(distances)\n",
    "plt.title('K-distance Graph',fontsize=20)\n",
    "plt.xlabel('Data Points sorted by distance',fontsize=14)\n",
    "plt.ylabel('Epsilon',fontsize=14)\n",
    "plt.show()"
   ]
  },
  {
   "cell_type": "code",
   "execution_count": 62,
   "metadata": {
    "colab": {
     "base_uri": "https://localhost:8080/",
     "height": 235
    },
    "executionInfo": {
     "elapsed": 312,
     "status": "error",
     "timestamp": 1642809901303,
     "user": {
      "displayName": "Amanda Keren Frois Cardoso",
      "photoUrl": "https://lh3.googleusercontent.com/a-/AOh14Gg0sRdE_vP8axpdT-cC4PkDqgdu4M5nD4x0YFHx=s64",
      "userId": "06260755892418085078"
     },
     "user_tz": 180
    },
    "id": "U3j8-ERSBX6D",
    "outputId": "8a3a92ff-df46-4485-faf6-49733b5ba222"
   },
   "outputs": [
    {
     "ename": "NameError",
     "evalue": "ignored",
     "output_type": "error",
     "traceback": [
      "\u001b[0;31m---------------------------------------------------------------------------\u001b[0m",
      "\u001b[0;31mNameError\u001b[0m                                 Traceback (most recent call last)",
      "\u001b[0;32m<ipython-input-62-abc9b2e3a3d7>\u001b[0m in \u001b[0;36m<module>\u001b[0;34m()\u001b[0m\n\u001b[1;32m      2\u001b[0m \u001b[0my_dbscan\u001b[0m \u001b[0;34m=\u001b[0m \u001b[0mdbscan\u001b[0m\u001b[0;34m.\u001b[0m\u001b[0mfit_predict\u001b[0m\u001b[0;34m(\u001b[0m\u001b[0mX\u001b[0m\u001b[0;34m)\u001b[0m\u001b[0;34m\u001b[0m\u001b[0;34m\u001b[0m\u001b[0m\n\u001b[1;32m      3\u001b[0m \u001b[0;34m\u001b[0m\u001b[0m\n\u001b[0;32m----> 4\u001b[0;31m \u001b[0mprint\u001b[0m\u001b[0;34m(\u001b[0m\u001b[0mpd\u001b[0m\u001b[0;34m.\u001b[0m\u001b[0mDataFrame\u001b[0m\u001b[0;34m(\u001b[0m\u001b[0my_dbscan\u001b[0m\u001b[0;34m)\u001b[0m\u001b[0;34m,\u001b[0m\u001b[0mvalue_counts\u001b[0m\u001b[0;34m(\u001b[0m\u001b[0;34m)\u001b[0m\u001b[0;34m)\u001b[0m\u001b[0;34m\u001b[0m\u001b[0;34m\u001b[0m\u001b[0m\n\u001b[0m\u001b[1;32m      5\u001b[0m \u001b[0;34m\u001b[0m\u001b[0m\n\u001b[1;32m      6\u001b[0m \u001b[0;31m#Apresentando clusters resultantes do DBSCAN\u001b[0m\u001b[0;34m\u001b[0m\u001b[0;34m\u001b[0m\u001b[0;34m\u001b[0m\u001b[0m\n",
      "\u001b[0;31mNameError\u001b[0m: name 'value_counts' is not defined"
     ]
    }
   ],
   "source": [
    "dbscan = DBSCAN(eps=0.1, min_samples=6)\n",
    "y_dbscan = dbscan.fit_predict(X)\n",
    "\n",
    "print(pd.DataFrame(y_dbscan),value_counts())\n",
    "\n",
    "#Apresentando clusters resultantes do DBSCAN\n",
    "plt.figure(figsize=(5,5))\n",
    "scatter=plt.scatter(X[:,0],X[:,1],c=y_dbscan,cmap=matplotlib.colors.ListedColormap(colors),s=15)\n",
    "plt.legend(*scatter.legend_elements(),loc=\"lower left\", title=\"Classe\")\n",
    "plt.title('DBSCAN Clustering',fontsize=20)\n",
    "plt.xlabel('Feature 1',fontsize=14)\n",
    "plt.ylabel('Feature 2',fontsize=14)\n",
    "plt.show()"
   ]
  },
  {
   "cell_type": "code",
   "execution_count": 44,
   "metadata": {
    "colab": {
     "base_uri": "https://localhost:8080/",
     "height": 358
    },
    "executionInfo": {
     "elapsed": 961,
     "status": "ok",
     "timestamp": 1642808638540,
     "user": {
      "displayName": "Amanda Keren Frois Cardoso",
      "photoUrl": "https://lh3.googleusercontent.com/a-/AOh14Gg0sRdE_vP8axpdT-cC4PkDqgdu4M5nD4x0YFHx=s64",
      "userId": "06260755892418085078"
     },
     "user_tz": 180
    },
    "id": "c0dNmRs6BkxT",
    "outputId": "19ff7251-38f0-4c93-ff69-c4c127f9a283"
   },
   "outputs": [
    {
     "data": {
      "image/png": "[encoded data removed]",
      "text/plain": [
       "<Figure size 360x360 with 1 Axes>"
      ]
     },
     "metadata": {
      "needs_background": "light"
     },
     "output_type": "display_data"
    }
   ],
   "source": [
    "colors=['red','blue','green','purple','orange','black']\n",
    "dbscan = DBSCAN(eps=0.06, min_samples=2)\n",
    "y_dbscan = dbscan.fit_predict(X)\n",
    "\n",
    "ydb = y_dbscan.copy()\n",
    "outdb = y_dbscan.copy()\n",
    "\n",
    "\n",
    "ydb=np.where(ydb <= 0, np.nan, ydb)\n",
    "outdb=np.where(outdb > 0, np.nan, outdb)\n",
    "\n",
    "plt.figure(figsize=(5,5))\n",
    "scatter=plt.scatter(X[:,0],X[:,1],c=ydb,cmap=matplotlib.colors.ListedColormap(colors),s=15)\n",
    "plt.scatter(X[:,0],X[:,1],c=outdb,cmap=matplotlib.colors.ListedColormap('grey'),s=15)\n",
    "plt.legend(*scatter.legend_elements(),loc=\"lower left\", title=\"Classe\")\n",
    "plt.title('DBSCAN Clustering',fontsize=20)\n",
    "plt.xlabel('Feature 1',fontsize=14)\n",
    "plt.ylabel('Feature 2',fontsize=14)\n",
    "plt.show()"
   ]
  },
  {
   "cell_type": "code",
   "execution_count": null,
   "metadata": {
    "id": "9y-7C2_PBpgl"
   },
   "outputs": [],
   "source": []
  }
 ],
 "metadata": {
  "colab": {
   "name": "Amanda - projeto final",
   "provenance": [
    {
     "file_id": "1ZdyZ2kgFckQNh5tBiNu-jGoOqxIz2y-3",
     "timestamp": 1642786340183
    }
   ]
  },
  "kernelspec": {
   "display_name": "Python 3",
   "language": "python",
   "name": "python3"
  },
  "language_info": {
   "codemirror_mode": {
    "name": "ipython",
    "version": 3
   },
   "file_extension": ".py",
   "mimetype": "text/x-python",
   "name": "python",
   "nbconvert_exporter": "python",
   "pygments_lexer": "ipython3",
   "version": "3.8.10"
  },
  "varInspector": {
   "cols": {
    "lenName": 16,
    "lenType": 16,
    "lenVar": 40
   },
   "kernels_config": {
    "python": {
     "delete_cmd_postfix": "",
     "delete_cmd_prefix": "del ",
     "library": "var_list.py",
     "varRefreshCmd": "print(var_dic_list())"
    },
    "r": {
     "delete_cmd_postfix": ") ",
     "delete_cmd_prefix": "rm(",
     "library": "var_list.r",
     "varRefreshCmd": "cat(var_dic_list()) "
    }
   },
   "oldHeight": 553,
   "position": {
    "height": "40px",
    "left": "1075px",
    "right": "20px",
    "top": "24px",
    "width": "576px"
   },
   "types_to_exclude": [
    "module",
    "function",
    "builtin_function_or_method",
    "instance",
    "_Feature"
   ],
   "varInspector_section_display": "none",
   "window_display": true
  }
 },
 "nbformat": 4,
 "nbformat_minor": 1
}
