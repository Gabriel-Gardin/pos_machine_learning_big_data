{
 "cells": [
  {
   "cell_type": "markdown",
   "metadata": {
    "id": "gBAO3j_f6l6j"
   },
   "source": [
    "### Lista de Exercícios de Classificação com Machine Learning"
   ]
  },
  {
   "cell_type": "markdown",
   "metadata": {
    "id": "B0PT2PPS6l6p"
   },
   "source": [
    "##### Dataset Zoológico\n",
    "\n",
    "Classes<br>\n",
    "====== ====================================================\n",
    "<br>1 -- (41) aardvark, antelope, bear, boar, buffalo, calf, cavy, cheetah, deer, dolphin, elephant, fruitbat, giraffe, girl, goat, gorilla, hamster, hare, leopard, lion, lynx, mink, mole, mongoose, opossum, oryx, platypus, polecat, pony, porpoise, puma, pussycat, raccoon, reindeer, seal, sealion, squirrel, vampire, vole, wallaby,wolf\n",
    "<br>2 -- (20) chicken, crow, dove, duck, flamingo, gull, hawk, kiwi, lark, ostrich, parakeet, penguin, pheasant, rhea, skimmer, skua, sparrow, swan, vulture, wren\n",
    "<br>3 -- (5) pitviper, seasnake, slowworm, tortoise, tuatara\n",
    "<br>4 -- (13) bass, carp, catfish, chub, dogfish, haddock, herring, pike, piranha, seahorse, sole, stingray, tuna\n",
    "<br>5 -- (4) frog, frog, newt, toad\n",
    "<br>6 -- (8) flea, gnat, honeybee, housefly, ladybird, moth, termite, wasp\n",
    "<br>7 -- (10) clam, crab, crayfish, lobster, octopus, scorpion, seawasp, slug, starfish, worm\n",
    "\n",
    "\n",
    "Atributos\n",
    "\n",
    "1. animal name: único por amostra!!!\n",
    "2. hair: Boolean\n",
    "3. feathers: Boolean\n",
    "4. eggs: Boolean\n",
    "5. milk: Boolean\n",
    "6. airborne: Boolean\n",
    "7. aquatic: Boolean\n",
    "8. predator: Boolean\n",
    "9. toothed: Boolean\n",
    "10. backbone: Boolean\n",
    "11. breathes: Boolean\n",
    "12. venomous: Boolean\n",
    "13. fins: Boolean\n",
    "14. legs: Numeric (set of values: {0,2,4,5,6,8})\n",
    "15. tail: Boolean\n",
    "16. domestic: Boolean\n",
    "17. catsize: Boolean\n",
    "18. type: Numeric (valor inteiro [1,7])"
   ]
  },
  {
   "cell_type": "code",
   "execution_count": null,
   "metadata": {
    "colab": {
     "base_uri": "https://localhost:8080/",
     "height": 224
    },
    "id": "YD02mivT6l6q",
    "outputId": "2d40a659-a57b-4984-cb43-87e2b7a86c0d"
   },
   "outputs": [
    {
     "data": {
      "text/html": [
       "<div>\n",
       "<style scoped>\n",
       "    .dataframe tbody tr th:only-of-type {\n",
       "        vertical-align: middle;\n",
       "    }\n",
       "\n",
       "    .dataframe tbody tr th {\n",
       "        vertical-align: top;\n",
       "    }\n",
       "\n",
       "    .dataframe thead th {\n",
       "        text-align: right;\n",
       "    }\n",
       "</style>\n",
       "<table border=\"1\" class=\"dataframe\">\n",
       "  <thead>\n",
       "    <tr style=\"text-align: right;\">\n",
       "      <th></th>\n",
       "      <th>animal name</th>\n",
       "      <th>hair</th>\n",
       "      <th>feathers</th>\n",
       "      <th>eggs</th>\n",
       "      <th>milk</th>\n",
       "      <th>airborne</th>\n",
       "      <th>aquatic</th>\n",
       "      <th>predator</th>\n",
       "      <th>toothed</th>\n",
       "      <th>backbone</th>\n",
       "      <th>breathes</th>\n",
       "      <th>venomous</th>\n",
       "      <th>fins</th>\n",
       "      <th>legs</th>\n",
       "      <th>tail</th>\n",
       "      <th>domestic</th>\n",
       "      <th>catsize</th>\n",
       "      <th>classe</th>\n",
       "    </tr>\n",
       "  </thead>\n",
       "  <tbody>\n",
       "    <tr>\n",
       "      <th>0</th>\n",
       "      <td>aardvark</td>\n",
       "      <td>1</td>\n",
       "      <td>0</td>\n",
       "      <td>0</td>\n",
       "      <td>1</td>\n",
       "      <td>0</td>\n",
       "      <td>0</td>\n",
       "      <td>1</td>\n",
       "      <td>1</td>\n",
       "      <td>1</td>\n",
       "      <td>1</td>\n",
       "      <td>0</td>\n",
       "      <td>0</td>\n",
       "      <td>4</td>\n",
       "      <td>0</td>\n",
       "      <td>0</td>\n",
       "      <td>1</td>\n",
       "      <td>1</td>\n",
       "    </tr>\n",
       "    <tr>\n",
       "      <th>1</th>\n",
       "      <td>antelope</td>\n",
       "      <td>1</td>\n",
       "      <td>0</td>\n",
       "      <td>0</td>\n",
       "      <td>1</td>\n",
       "      <td>0</td>\n",
       "      <td>0</td>\n",
       "      <td>0</td>\n",
       "      <td>1</td>\n",
       "      <td>1</td>\n",
       "      <td>1</td>\n",
       "      <td>0</td>\n",
       "      <td>0</td>\n",
       "      <td>4</td>\n",
       "      <td>1</td>\n",
       "      <td>0</td>\n",
       "      <td>1</td>\n",
       "      <td>1</td>\n",
       "    </tr>\n",
       "    <tr>\n",
       "      <th>2</th>\n",
       "      <td>bass</td>\n",
       "      <td>0</td>\n",
       "      <td>0</td>\n",
       "      <td>1</td>\n",
       "      <td>0</td>\n",
       "      <td>0</td>\n",
       "      <td>1</td>\n",
       "      <td>1</td>\n",
       "      <td>1</td>\n",
       "      <td>1</td>\n",
       "      <td>0</td>\n",
       "      <td>0</td>\n",
       "      <td>1</td>\n",
       "      <td>0</td>\n",
       "      <td>1</td>\n",
       "      <td>0</td>\n",
       "      <td>0</td>\n",
       "      <td>4</td>\n",
       "    </tr>\n",
       "    <tr>\n",
       "      <th>3</th>\n",
       "      <td>bear</td>\n",
       "      <td>1</td>\n",
       "      <td>0</td>\n",
       "      <td>0</td>\n",
       "      <td>1</td>\n",
       "      <td>0</td>\n",
       "      <td>0</td>\n",
       "      <td>1</td>\n",
       "      <td>1</td>\n",
       "      <td>1</td>\n",
       "      <td>1</td>\n",
       "      <td>0</td>\n",
       "      <td>0</td>\n",
       "      <td>4</td>\n",
       "      <td>0</td>\n",
       "      <td>0</td>\n",
       "      <td>1</td>\n",
       "      <td>1</td>\n",
       "    </tr>\n",
       "    <tr>\n",
       "      <th>4</th>\n",
       "      <td>boar</td>\n",
       "      <td>1</td>\n",
       "      <td>0</td>\n",
       "      <td>0</td>\n",
       "      <td>1</td>\n",
       "      <td>0</td>\n",
       "      <td>0</td>\n",
       "      <td>1</td>\n",
       "      <td>1</td>\n",
       "      <td>1</td>\n",
       "      <td>1</td>\n",
       "      <td>0</td>\n",
       "      <td>0</td>\n",
       "      <td>4</td>\n",
       "      <td>1</td>\n",
       "      <td>0</td>\n",
       "      <td>1</td>\n",
       "      <td>1</td>\n",
       "    </tr>\n",
       "  </tbody>\n",
       "</table>\n",
       "</div>"
      ],
      "text/plain": [
       "  animal name  hair  feathers  eggs  milk  ...  legs  tail  domestic  catsize  classe\n",
       "0    aardvark     1         0     0     1  ...     4     0         0        1       1\n",
       "1    antelope     1         0     0     1  ...     4     1         0        1       1\n",
       "2        bass     0         0     1     0  ...     0     1         0        0       4\n",
       "3        bear     1         0     0     1  ...     4     0         0        1       1\n",
       "4        boar     1         0     0     1  ...     4     1         0        1       1\n",
       "\n",
       "[5 rows x 18 columns]"
      ]
     },
     "execution_count": 1,
     "metadata": {},
     "output_type": "execute_result"
    }
   ],
   "source": [
    "import pandas as pd\n",
    "import numpy as np\n",
    "\n",
    "from sklearn.preprocessing import StandardScaler\n",
    "from sklearn.decomposition import PCA\n",
    "from sklearn import svm\n",
    "url = \"https://archive.ics.uci.edu/ml/machine-learning-databases/zoo/zoo.data\"\n",
    "\n",
    "features = ['animal name', 'hair', 'feathers', 'eggs', 'milk', 'airborne', 'aquatic'\n",
    "                             , 'predator', 'toothed', 'backbone', 'breathes', 'venomous'\n",
    "                            , 'fins', 'legs', 'tail', 'domestic', 'catsize']\n",
    "\n",
    "df = pd.read_csv(url, names=(features+[\"classe\"]))\n",
    "df['classe'] = df['classe'].astype(str).astype('category')\n",
    "df.head()"
   ]
  },
  {
   "cell_type": "code",
   "execution_count": null,
   "metadata": {
    "colab": {
     "base_uri": "https://localhost:8080/"
    },
    "id": "Iqb-MzjvoJA4",
    "outputId": "4ccc37c8-d46c-4419-f092-de419bff5269"
   },
   "outputs": [
    {
     "data": {
      "text/plain": [
       "Index(['animal name', 'hair', 'feathers', 'eggs', 'milk', 'airborne',\n",
       "       'aquatic', 'predator', 'toothed', 'backbone', 'breathes', 'venomous',\n",
       "       'fins', 'legs', 'tail', 'domestic', 'catsize', 'classe'],\n",
       "      dtype='object')"
      ]
     },
     "execution_count": 2,
     "metadata": {},
     "output_type": "execute_result"
    }
   ],
   "source": [
    "df.columns"
   ]
  },
  {
   "cell_type": "code",
   "execution_count": null,
   "metadata": {
    "colab": {
     "base_uri": "https://localhost:8080/"
    },
    "id": "l5XAD8ao6l6u",
    "outputId": "075c9f76-25ea-4793-a449-0579eab9afa5"
   },
   "outputs": [
    {
     "name": "stdout",
     "output_type": "stream",
     "text": [
      "[0 3 1 1 4 0 1 5 0 6 0 1 0 0 0 0 5 6 6 1 1 5 4 1 5]\n"
     ]
    }
   ],
   "source": [
    "# Dividindo o dataset entre treino e teste (hold-out)\n",
    "\n",
    "# embaralhando as amostras (random)\n",
    "np.random.seed(0)\n",
    "\n",
    "#retorna uma faixa de valores permutados\n",
    "indices = np.random.permutation(len(df))\n",
    "\n",
    "corte = round(len(df)*0.75)\n",
    "#iloc seleciona a posição do dataframe com base no inteiro passado como parâmetro\n",
    "amostras_treino = df[['hair', 'feathers', 'eggs', 'milk', 'airborne','aquatic', 'predator', 'toothed', 'backbone', 'breathes', 'venomous','fins', 'legs', 'tail', 'domestic', 'catsize']].iloc[indices[:corte]]\n",
    "#cat.codes: retorna os codigos para as categorias \n",
    "rotulos_treino = df['classe'].iloc[indices[:corte]].cat.codes\n",
    "amostras_teste = df[['hair', 'feathers', 'eggs', 'milk', 'airborne', 'aquatic', 'predator', 'toothed', 'backbone', 'breathes', 'venomous', 'fins', 'legs', 'tail', 'domestic', 'catsize']].drop(amostras_treino.index)\n",
    "rotulos_teste = df['classe'].drop(rotulos_treino.index).cat.codes\n",
    "\n",
    "# criando uma solução com kNN\n",
    "from sklearn.neighbors import KNeighborsClassifier\n",
    "knn = KNeighborsClassifier(n_neighbors=3)\n",
    "knn.fit(amostras_treino, rotulos_treino)\n",
    "KNeighborsClassifier()\n",
    "\n",
    "resultado = knn.predict(amostras_teste)\n",
    "\n",
    "print(resultado)\n"
   ]
  },
  {
   "cell_type": "code",
   "execution_count": null,
   "metadata": {
    "colab": {
     "base_uri": "https://localhost:8080/"
    },
    "id": "ABk0SEXs6l6z",
    "outputId": "933795b7-9339-4c37-f6d7-650826301399"
   },
   "outputs": [
    {
     "name": "stdout",
     "output_type": "stream",
     "text": [
      "0.96\n",
      "              precision    recall  f1-score   support\n",
      "\n",
      "           0       1.00      1.00      1.00         8\n",
      "           1       1.00      1.00      1.00         7\n",
      "           3       1.00      1.00      1.00         1\n",
      "           4       1.00      1.00      1.00         2\n",
      "           5       0.75      1.00      0.86         3\n",
      "           6       1.00      0.75      0.86         4\n",
      "\n",
      "    accuracy                           0.96        25\n",
      "   macro avg       0.96      0.96      0.95        25\n",
      "weighted avg       0.97      0.96      0.96        25\n",
      "\n",
      "[[8 0 0 0 0 0]\n",
      " [0 7 0 0 0 0]\n",
      " [0 0 1 0 0 0]\n",
      " [0 0 0 2 0 0]\n",
      " [0 0 0 0 3 0]\n",
      " [0 0 0 0 1 3]]\n"
     ]
    }
   ],
   "source": [
    "from sklearn.metrics import accuracy_score\n",
    "from sklearn.metrics import classification_report\n",
    "from sklearn.metrics import confusion_matrix\n",
    "\n",
    "\n",
    "print(accuracy_score(rotulos_teste, resultado))\n",
    "print(classification_report(rotulos_teste, resultado))\n",
    "print(confusion_matrix(rotulos_teste, resultado))"
   ]
  },
  {
   "cell_type": "code",
   "execution_count": null,
   "metadata": {
    "colab": {
     "base_uri": "https://localhost:8080/",
     "height": 350
    },
    "id": "-2d56bgpordK",
    "outputId": "52b56ca5-12f2-4544-c69a-00180c370325"
   },
   "outputs": [
    {
     "name": "stderr",
     "output_type": "stream",
     "text": [
      "/usr/local/lib/python3.7/dist-packages/sklearn/utils/deprecation.py:87: FutureWarning: Function plot_confusion_matrix is deprecated; Function `plot_confusion_matrix` is deprecated in 1.0 and will be removed in 1.2. Use one of the class methods: ConfusionMatrixDisplay.from_predictions or ConfusionMatrixDisplay.from_estimator.\n",
      "  warnings.warn(msg, category=FutureWarning)\n"
     ]
    },
    {
     "data": {
      "image/png": "[encoded data removed]",
      "text/plain": [
       "<Figure size 432x288 with 2 Axes>"
      ]
     },
     "metadata": {
      "needs_background": "light"
     },
     "output_type": "display_data"
    }
   ],
   "source": [
    "import matplotlib.pyplot as plt\n",
    "from sklearn.metrics import plot_confusion_matrix\n",
    "\n",
    "disp = plot_confusion_matrix(knn, amostras_teste, rotulos_teste,\n",
    "                                 display_labels=df['classe'].iloc[~indices[:corte]],\n",
    "                                 cmap=plt.cm.Reds,\n",
    "                                 normalize=\"true\") #None, opção com a quantidade absoluta\n",
    "disp.ax_.set_title(\"Matrix Confusão\")\n",
    "\n",
    "plt.show(disp)"
   ]
  },
  {
   "cell_type": "code",
   "execution_count": null,
   "metadata": {
    "colab": {
     "base_uri": "https://localhost:8080/",
     "height": 206
    },
    "id": "XMUBJTY5BYRi",
    "outputId": "39cbc6e6-b8d1-4dbe-c903-2ef4dbfa6b05"
   },
   "outputs": [
    {
     "data": {
      "text/html": [
       "<div>\n",
       "<style scoped>\n",
       "    .dataframe tbody tr th:only-of-type {\n",
       "        vertical-align: middle;\n",
       "    }\n",
       "\n",
       "    .dataframe tbody tr th {\n",
       "        vertical-align: top;\n",
       "    }\n",
       "\n",
       "    .dataframe thead th {\n",
       "        text-align: right;\n",
       "    }\n",
       "</style>\n",
       "<table border=\"1\" class=\"dataframe\">\n",
       "  <thead>\n",
       "    <tr style=\"text-align: right;\">\n",
       "      <th></th>\n",
       "      <th>0</th>\n",
       "      <th>1</th>\n",
       "      <th>2</th>\n",
       "      <th>3</th>\n",
       "      <th>4</th>\n",
       "      <th>5</th>\n",
       "      <th>6</th>\n",
       "      <th>7</th>\n",
       "      <th>8</th>\n",
       "      <th>9</th>\n",
       "      <th>10</th>\n",
       "      <th>11</th>\n",
       "      <th>12</th>\n",
       "      <th>13</th>\n",
       "      <th>14</th>\n",
       "      <th>15</th>\n",
       "    </tr>\n",
       "  </thead>\n",
       "  <tbody>\n",
       "    <tr>\n",
       "      <th>0</th>\n",
       "      <td>1.161395</td>\n",
       "      <td>-0.496904</td>\n",
       "      <td>-1.185227</td>\n",
       "      <td>1.209717</td>\n",
       "      <td>-0.558291</td>\n",
       "      <td>-0.744208</td>\n",
       "      <td>0.896421</td>\n",
       "      <td>0.809776</td>\n",
       "      <td>0.46569</td>\n",
       "      <td>0.512348</td>\n",
       "      <td>-0.293294</td>\n",
       "      <td>-0.449868</td>\n",
       "      <td>0.572540</td>\n",
       "      <td>-1.698416</td>\n",
       "      <td>-0.384353</td>\n",
       "      <td>1.138180</td>\n",
       "    </tr>\n",
       "    <tr>\n",
       "      <th>1</th>\n",
       "      <td>1.161395</td>\n",
       "      <td>-0.496904</td>\n",
       "      <td>-1.185227</td>\n",
       "      <td>1.209717</td>\n",
       "      <td>-0.558291</td>\n",
       "      <td>-0.744208</td>\n",
       "      <td>-1.115547</td>\n",
       "      <td>0.809776</td>\n",
       "      <td>0.46569</td>\n",
       "      <td>0.512348</td>\n",
       "      <td>-0.293294</td>\n",
       "      <td>-0.449868</td>\n",
       "      <td>0.572540</td>\n",
       "      <td>0.588784</td>\n",
       "      <td>-0.384353</td>\n",
       "      <td>1.138180</td>\n",
       "    </tr>\n",
       "    <tr>\n",
       "      <th>2</th>\n",
       "      <td>-0.861034</td>\n",
       "      <td>-0.496904</td>\n",
       "      <td>0.843721</td>\n",
       "      <td>-0.826640</td>\n",
       "      <td>-0.558291</td>\n",
       "      <td>1.343710</td>\n",
       "      <td>0.896421</td>\n",
       "      <td>0.809776</td>\n",
       "      <td>0.46569</td>\n",
       "      <td>-1.951800</td>\n",
       "      <td>-0.293294</td>\n",
       "      <td>2.222876</td>\n",
       "      <td>-1.404435</td>\n",
       "      <td>0.588784</td>\n",
       "      <td>-0.384353</td>\n",
       "      <td>-0.878595</td>\n",
       "    </tr>\n",
       "    <tr>\n",
       "      <th>3</th>\n",
       "      <td>1.161395</td>\n",
       "      <td>-0.496904</td>\n",
       "      <td>-1.185227</td>\n",
       "      <td>1.209717</td>\n",
       "      <td>-0.558291</td>\n",
       "      <td>-0.744208</td>\n",
       "      <td>0.896421</td>\n",
       "      <td>0.809776</td>\n",
       "      <td>0.46569</td>\n",
       "      <td>0.512348</td>\n",
       "      <td>-0.293294</td>\n",
       "      <td>-0.449868</td>\n",
       "      <td>0.572540</td>\n",
       "      <td>-1.698416</td>\n",
       "      <td>-0.384353</td>\n",
       "      <td>1.138180</td>\n",
       "    </tr>\n",
       "    <tr>\n",
       "      <th>4</th>\n",
       "      <td>1.161395</td>\n",
       "      <td>-0.496904</td>\n",
       "      <td>-1.185227</td>\n",
       "      <td>1.209717</td>\n",
       "      <td>-0.558291</td>\n",
       "      <td>-0.744208</td>\n",
       "      <td>0.896421</td>\n",
       "      <td>0.809776</td>\n",
       "      <td>0.46569</td>\n",
       "      <td>0.512348</td>\n",
       "      <td>-0.293294</td>\n",
       "      <td>-0.449868</td>\n",
       "      <td>0.572540</td>\n",
       "      <td>0.588784</td>\n",
       "      <td>-0.384353</td>\n",
       "      <td>1.138180</td>\n",
       "    </tr>\n",
       "  </tbody>\n",
       "</table>\n",
       "</div>"
      ],
      "text/plain": [
       "         0         1         2   ...        13        14        15\n",
       "0  1.161395 -0.496904 -1.185227  ... -1.698416 -0.384353  1.138180\n",
       "1  1.161395 -0.496904 -1.185227  ...  0.588784 -0.384353  1.138180\n",
       "2 -0.861034 -0.496904  0.843721  ...  0.588784 -0.384353 -0.878595\n",
       "3  1.161395 -0.496904 -1.185227  ... -1.698416 -0.384353  1.138180\n",
       "4  1.161395 -0.496904 -1.185227  ...  0.588784 -0.384353  1.138180\n",
       "\n",
       "[5 rows x 16 columns]"
      ]
     },
     "execution_count": 5,
     "metadata": {},
     "output_type": "execute_result"
    }
   ],
   "source": [
    "features = ['hair', 'feathers', 'eggs', 'milk', 'airborne',\n",
    "       'aquatic', 'predator', 'toothed', 'backbone', 'breathes', 'venomous',\n",
    "       'fins', 'legs', 'tail', 'domestic', 'catsize']\n",
    "\n",
    "# guardando somente as features\n",
    "x = df.loc[:, features].values\n",
    "\n",
    "# guardando os targets/rótulos\n",
    "y = df.loc[:,['classe']].values\n",
    "\n",
    "# normalizando as features (mean = 0 and variance = 1)\n",
    "x = StandardScaler().fit_transform(x)\n",
    "\n",
    "pd.DataFrame(x).head()"
   ]
  },
  {
   "cell_type": "code",
   "execution_count": null,
   "metadata": {
    "colab": {
     "base_uri": "https://localhost:8080/",
     "height": 206
    },
    "id": "lf0RXIRaGDr6",
    "outputId": "0636b490-81d4-4e87-a56e-2d25b7e560f9"
   },
   "outputs": [
    {
     "data": {
      "text/html": [
       "<div>\n",
       "<style scoped>\n",
       "    .dataframe tbody tr th:only-of-type {\n",
       "        vertical-align: middle;\n",
       "    }\n",
       "\n",
       "    .dataframe tbody tr th {\n",
       "        vertical-align: top;\n",
       "    }\n",
       "\n",
       "    .dataframe thead th {\n",
       "        text-align: right;\n",
       "    }\n",
       "</style>\n",
       "<table border=\"1\" class=\"dataframe\">\n",
       "  <thead>\n",
       "    <tr style=\"text-align: right;\">\n",
       "      <th></th>\n",
       "      <th>PC 1</th>\n",
       "      <th>PC 2</th>\n",
       "      <th>PC 3</th>\n",
       "      <th>PC 4</th>\n",
       "      <th>PC 5</th>\n",
       "      <th>PC 6</th>\n",
       "      <th>PC 7</th>\n",
       "      <th>PC 8</th>\n",
       "      <th>PC 9</th>\n",
       "      <th>PC 10</th>\n",
       "      <th>PC 11</th>\n",
       "      <th>PC 12</th>\n",
       "      <th>PC 13</th>\n",
       "      <th>PC 14</th>\n",
       "      <th>PC 15</th>\n",
       "      <th>classe</th>\n",
       "    </tr>\n",
       "  </thead>\n",
       "  <tbody>\n",
       "    <tr>\n",
       "      <th>0</th>\n",
       "      <td>-2.535256</td>\n",
       "      <td>-0.260278</td>\n",
       "      <td>1.241842</td>\n",
       "      <td>-1.065734</td>\n",
       "      <td>-0.296433</td>\n",
       "      <td>0.261767</td>\n",
       "      <td>-0.041032</td>\n",
       "      <td>-0.301902</td>\n",
       "      <td>1.287573</td>\n",
       "      <td>0.250864</td>\n",
       "      <td>-0.137726</td>\n",
       "      <td>-0.725658</td>\n",
       "      <td>-0.534541</td>\n",
       "      <td>0.460038</td>\n",
       "      <td>0.133532</td>\n",
       "      <td>1</td>\n",
       "    </tr>\n",
       "    <tr>\n",
       "      <th>1</th>\n",
       "      <td>-2.877354</td>\n",
       "      <td>-0.401547</td>\n",
       "      <td>-0.100018</td>\n",
       "      <td>-0.014988</td>\n",
       "      <td>-0.308969</td>\n",
       "      <td>-0.627116</td>\n",
       "      <td>0.796777</td>\n",
       "      <td>0.345511</td>\n",
       "      <td>-0.552024</td>\n",
       "      <td>0.192473</td>\n",
       "      <td>0.211313</td>\n",
       "      <td>-0.145765</td>\n",
       "      <td>-0.087887</td>\n",
       "      <td>-0.018725</td>\n",
       "      <td>-0.028554</td>\n",
       "      <td>1</td>\n",
       "    </tr>\n",
       "    <tr>\n",
       "      <th>2</th>\n",
       "      <td>1.761003</td>\n",
       "      <td>3.705592</td>\n",
       "      <td>-0.180105</td>\n",
       "      <td>0.578327</td>\n",
       "      <td>-0.327066</td>\n",
       "      <td>-0.379035</td>\n",
       "      <td>-0.560420</td>\n",
       "      <td>-0.200556</td>\n",
       "      <td>-0.158270</td>\n",
       "      <td>-0.511661</td>\n",
       "      <td>-0.282661</td>\n",
       "      <td>-0.108516</td>\n",
       "      <td>0.090267</td>\n",
       "      <td>0.245198</td>\n",
       "      <td>-0.007102</td>\n",
       "      <td>4</td>\n",
       "    </tr>\n",
       "    <tr>\n",
       "      <th>3</th>\n",
       "      <td>-2.535256</td>\n",
       "      <td>-0.260278</td>\n",
       "      <td>1.241842</td>\n",
       "      <td>-1.065734</td>\n",
       "      <td>-0.296433</td>\n",
       "      <td>0.261767</td>\n",
       "      <td>-0.041032</td>\n",
       "      <td>-0.301902</td>\n",
       "      <td>1.287573</td>\n",
       "      <td>0.250864</td>\n",
       "      <td>-0.137726</td>\n",
       "      <td>-0.725658</td>\n",
       "      <td>-0.534541</td>\n",
       "      <td>0.460038</td>\n",
       "      <td>0.133532</td>\n",
       "      <td>1</td>\n",
       "    </tr>\n",
       "    <tr>\n",
       "      <th>4</th>\n",
       "      <td>-2.818975</td>\n",
       "      <td>0.107081</td>\n",
       "      <td>0.136852</td>\n",
       "      <td>-1.178338</td>\n",
       "      <td>0.147460</td>\n",
       "      <td>0.069023</td>\n",
       "      <td>-0.144118</td>\n",
       "      <td>0.065897</td>\n",
       "      <td>-0.119328</td>\n",
       "      <td>-0.445570</td>\n",
       "      <td>-0.117144</td>\n",
       "      <td>-0.159293</td>\n",
       "      <td>0.036293</td>\n",
       "      <td>-0.034216</td>\n",
       "      <td>-0.045532</td>\n",
       "      <td>1</td>\n",
       "    </tr>\n",
       "  </tbody>\n",
       "</table>\n",
       "</div>"
      ],
      "text/plain": [
       "       PC 1      PC 2      PC 3      PC 4  ...     PC 13     PC 14     PC 15  classe\n",
       "0 -2.535256 -0.260278  1.241842 -1.065734  ... -0.534541  0.460038  0.133532       1\n",
       "1 -2.877354 -0.401547 -0.100018 -0.014988  ... -0.087887 -0.018725 -0.028554       1\n",
       "2  1.761003  3.705592 -0.180105  0.578327  ...  0.090267  0.245198 -0.007102       4\n",
       "3 -2.535256 -0.260278  1.241842 -1.065734  ... -0.534541  0.460038  0.133532       1\n",
       "4 -2.818975  0.107081  0.136852 -1.178338  ...  0.036293 -0.034216 -0.045532       1\n",
       "\n",
       "[5 rows x 16 columns]"
      ]
     },
     "execution_count": 6,
     "metadata": {},
     "output_type": "execute_result"
    }
   ],
   "source": [
    "#construindo PCA com 15 componentes\n",
    "pca = PCA(n_components=15)\n",
    "#observar que aplicamos PCA apenas nos valores dos atributos.\n",
    "#PCA não é aplicado aos rótulos\n",
    "principalComponents = pca.fit_transform(x)\n",
    "\n",
    "principalDf = pd.DataFrame(data = principalComponents, columns = ['PC 1', 'PC 2', 'PC 3', 'PC 4', 'PC 5', 'PC 6', 'PC 7', 'PC 8', 'PC 9', 'PC 10', 'PC 11', 'PC 12', 'PC 13', 'PC 14', 'PC 15'])\n",
    "\n",
    "#neste ponto, os 4 componentes principais são posicionados juntamente com os respectivos rótulos\n",
    "finalDf = pd.concat([principalDf, df[['classe']]], axis = 1)\n",
    "finalDf.head()"
   ]
  },
  {
   "cell_type": "code",
   "execution_count": null,
   "metadata": {
    "colab": {
     "base_uri": "https://localhost:8080/",
     "height": 282
    },
    "id": "FDWCFtS_GPNO",
    "outputId": "8a0fecaf-18ea-43c2-cbc6-bb92d2efd97d"
   },
   "outputs": [
    {
     "data": {
      "text/plain": [
       "<matplotlib.axes._subplots.AxesSubplot at 0x7fb9c1fee690>"
      ]
     },
     "execution_count": 8,
     "metadata": {},
     "output_type": "execute_result"
    },
    {
     "data": {
      "image/png": "[encoded data removed]",
      "text/plain": [
       "<Figure size 432x288 with 1 Axes>"
      ]
     },
     "metadata": {
      "needs_background": "light"
     },
     "output_type": "display_data"
    }
   ],
   "source": [
    "PC1, PC2, PC3, PC4, PC5, PC6, PC7, PC8, PC9, PC10, PC11, PC12, PC13, PC14, PC15 = pca.explained_variance_ratio_\n",
    "\n",
    "pd.DataFrame({\n",
    "   'variância': [PC1, PC2, PC3, PC4, PC5, PC6, PC7, PC8, PC9, PC10, PC11, PC12, PC13, PC14, PC15]\n",
    "   }, index=['PC 1', 'PC 2', 'PC 3', 'PC 4', 'PC 5', 'PC 6', 'PC 7', 'PC 8', 'PC 9', 'PC 10', 'PC 11', 'PC 12', 'PC 13', 'PC 14', 'PC 15']).plot.line()"
   ]
  },
  {
   "cell_type": "code",
   "execution_count": null,
   "metadata": {
    "colab": {
     "base_uri": "https://localhost:8080/",
     "height": 740
    },
    "id": "Ycdma0I5GSTz",
    "outputId": "e4d171c5-13b1-427f-fccc-394f88f1f081"
   },
   "outputs": [
    {
     "data": {
      "image/png": "[encoded data removed]",
      "text/plain": [
       "<Figure size 864x864 with 1 Axes>"
      ]
     },
     "metadata": {
      "needs_background": "light"
     },
     "output_type": "display_data"
    }
   ],
   "source": [
    "fig = plt.figure(figsize = (12,12))\n",
    "ax = fig.add_subplot(1,1,1) \n",
    "ax.set_xlabel('PC 1 ('+str(round(PC1,2))+ ')', fontsize = 15)\n",
    "ax.set_ylabel('PC 2 ('+str(round(PC2,2))+ ')', fontsize = 15)\n",
    "ax.set_title('PCA', fontsize = 20)\n",
    "targets = ['1', '2', '3', '4', '5', '6', '7']\n",
    "colors = ['b', 'r', 'g', 'y', 'black', 'orange', 'purple']\n",
    "for target, color in zip(targets,colors):\n",
    "    indicesToKeep = finalDf['classe'] == target\n",
    "    ax.scatter(finalDf.loc[indicesToKeep, 'PC 1']\n",
    "               , finalDf.loc[indicesToKeep, 'PC 2']\n",
    "               , c = color\n",
    "               , s = 50)\n",
    "                \n",
    "ax.legend(targets)\n",
    "ax.grid()"
   ]
  },
  {
   "cell_type": "code",
   "execution_count": null,
   "metadata": {
    "colab": {
     "base_uri": "https://localhost:8080/",
     "height": 713
    },
    "id": "pV4T1oG1GVZ4",
    "outputId": "cd3a37c0-1c75-42eb-cea6-5dbc38350db7"
   },
   "outputs": [
    {
     "data": {
      "image/png": "[encoded data removed]",
      "text/plain": [
       "<Figure size 864x864 with 4 Axes>"
      ]
     },
     "metadata": {},
     "output_type": "display_data"
    }
   ],
   "source": [
    "\n",
    "#vamos usar somente estes dois atributos para possibilitar a visualização\n",
    "\n",
    "X=finalDf[['PC 1', 'PC 2']].values\n",
    "#indica que os rótulos devem ser tratados como categorias e os codifica\n",
    "df['classe'] = df['classe'].astype('category')\n",
    "y = df['classe'].cat.codes\n",
    "\n",
    "h = 0.02 #hiperparâmetro\n",
    "c = 1.0#hiperparâmetro\n",
    "\n",
    "# induzindo modelo\n",
    "svc_lin = svm.SVC(kernel='linear', C=c).fit(X, y)\n",
    "svc_rbf = svm.SVC(kernel='rbf', C=c, gamma=2.0).fit(X, y)\n",
    "svc_poly = svm.SVC(kernel='poly', C=c, degree=3).fit(X, y)\n",
    "\n",
    "svc = svm.LinearSVC(C=c,max_iter=20000).fit(X, y)\n",
    "\n",
    "# criando o plot\n",
    "x_min, x_max = X[:, 0].min()-1, X[:, 0].max()+1\n",
    "y_min, y_max = X[:, 1].min()-1, X[:, 1].max()+1\n",
    "xx, yy = np.meshgrid(np.arange(x_min, x_max, h),\n",
    "                     np.arange(y_min, y_max, h))\n",
    "\n",
    "titles = ['SVM com kernel linear',\n",
    "          'SVM com kernel rbf',\n",
    "          'SVM com kernel polinomial',\n",
    "          'LinearSVC (linear model)']\n",
    "\n",
    "\n",
    "plt.figure(4, figsize = (12,12))\n",
    "\n",
    "#uma iteração para cada kernel testado\n",
    "for i, clf in enumerate((svc_lin, svc_rbf, svc_poly, svc)):\n",
    "    \n",
    "    plt.subplot(2, 2, i+1)\n",
    "    plt.subplots_adjust(wspace=0.4, hspace=0.4)\n",
    "\n",
    "    Z = clf.predict(np.c_[xx.ravel(), yy.ravel()])\n",
    "    Z = Z.reshape(xx.shape)\n",
    "\n",
    "    plt.contourf(xx, yy, Z, cmap=plt.cm.Paired, alpha=0.8)\n",
    "\n",
    "    plt.scatter(X[:, 0], X[:, 1], c=y*100)\n",
    "    plt.xlabel('PC 1')\n",
    "    plt.ylabel('PC 2')\n",
    "    plt.xlim(xx.min(), xx.max())\n",
    "    plt.ylim(yy.min(), yy.max())\n",
    "\n",
    "    plt.xticks(())\n",
    "    plt.yticks(())\n",
    "    plt.title(titles[i])"
   ]
  },
  {
   "cell_type": "code",
   "execution_count": null,
   "metadata": {
    "id": "_1HarFrNH4yH"
   },
   "outputs": [],
   "source": [
    "svc_lin = svm.SVC(kernel='linear', C=c).fit(amostras_treino, rotulos_treino)\n",
    "svc_rbf = svm.SVC(kernel='rbf', C=c, gamma=2.0).fit(amostras_treino, rotulos_treino)\n",
    "svc_poly = svm.SVC(kernel='poly', C=c, degree=3).fit(amostras_treino, rotulos_treino)\n",
    "\n",
    "svc = svm.LinearSVC(C=c,max_iter=20000).fit(amostras_treino, rotulos_treino)"
   ]
  },
  {
   "cell_type": "code",
   "execution_count": null,
   "metadata": {
    "colab": {
     "base_uri": "https://localhost:8080/",
     "height": 697
    },
    "id": "0mMkVPjKMtG_",
    "outputId": "ac6813f4-6788-4c77-86c6-2c2227cc3616"
   },
   "outputs": [
    {
     "name": "stdout",
     "output_type": "stream",
     "text": [
      "0.96\n",
      "              precision    recall  f1-score   support\n",
      "\n",
      "           0       1.00      1.00      1.00         8\n",
      "           1       1.00      1.00      1.00         7\n",
      "           3       1.00      1.00      1.00         1\n",
      "           4       1.00      1.00      1.00         2\n",
      "           5       0.75      1.00      0.86         3\n",
      "           6       1.00      0.75      0.86         4\n",
      "\n",
      "    accuracy                           0.96        25\n",
      "   macro avg       0.96      0.96      0.95        25\n",
      "weighted avg       0.97      0.96      0.96        25\n",
      "\n",
      "[[8 0 0 0 0 0]\n",
      " [0 7 0 0 0 0]\n",
      " [0 0 1 0 0 0]\n",
      " [0 0 0 2 0 0]\n",
      " [0 0 0 0 3 0]\n",
      " [0 0 0 0 1 3]]\n"
     ]
    },
    {
     "name": "stderr",
     "output_type": "stream",
     "text": [
      "/usr/local/lib/python3.7/dist-packages/sklearn/utils/deprecation.py:87: FutureWarning: Function plot_confusion_matrix is deprecated; Function `plot_confusion_matrix` is deprecated in 1.0 and will be removed in 1.2. Use one of the class methods: ConfusionMatrixDisplay.from_predictions or ConfusionMatrixDisplay.from_estimator.\n",
      "  warnings.warn(msg, category=FutureWarning)\n"
     ]
    },
    {
     "data": {
      "image/png": "[encoded data removed]",
      "text/plain": [
       "<Figure size 432x288 with 2 Axes>"
      ]
     },
     "metadata": {
      "needs_background": "light"
     },
     "output_type": "display_data"
    }
   ],
   "source": [
    "resultado=svc.predict(amostras_teste)\n",
    "\n",
    "print(accuracy_score(rotulos_teste, resultado))\n",
    "print(classification_report(rotulos_teste, resultado))\n",
    "print(confusion_matrix(rotulos_teste, resultado))\n",
    "\n",
    "disp = plot_confusion_matrix(svc, amostras_teste, rotulos_teste,\n",
    "                                 display_labels=df['classe'].iloc[~indices[:corte]],\n",
    "                                 cmap=plt.cm.Reds,\n",
    "                                 normalize=\"true\") #None, opção com a quantidade absoluta\n",
    "disp.ax_.set_title(\"Matrix Confusão\")\n",
    "\n",
    "plt.show(disp)"
   ]
  }
 ],
 "metadata": {
  "colab": {
   "name": "Copy of Exercicio-classif-knn-svm.ipynb",
   "provenance": []
  },
  "kernelspec": {
   "display_name": "Python 3 (ipykernel)",
   "language": "python",
   "name": "python3"
  },
  "language_info": {
   "codemirror_mode": {
    "name": "ipython",
    "version": 3
   },
   "file_extension": ".py",
   "mimetype": "text/x-python",
   "name": "python",
   "nbconvert_exporter": "python",
   "pygments_lexer": "ipython3",
   "version": "3.7.9"
  },
  "varInspector": {
   "cols": {
    "lenName": 16,
    "lenType": 16,
    "lenVar": 40
   },
   "kernels_config": {
    "python": {
     "delete_cmd_postfix": "",
     "delete_cmd_prefix": "del ",
     "library": "var_list.py",
     "varRefreshCmd": "print(var_dic_list())"
    },
    "r": {
     "delete_cmd_postfix": ") ",
     "delete_cmd_prefix": "rm(",
     "library": "var_list.r",
     "varRefreshCmd": "cat(var_dic_list()) "
    }
   },
   "oldHeight": 553,
   "position": {
    "height": "40px",
    "left": "1075px",
    "right": "20px",
    "top": "24px",
    "width": "576px"
   },
   "types_to_exclude": [
    "module",
    "function",
    "builtin_function_or_method",
    "instance",
    "_Feature"
   ],
   "varInspector_section_display": "none",
   "window_display": true
  }
 },
 "nbformat": 4,
 "nbformat_minor": 1
}
