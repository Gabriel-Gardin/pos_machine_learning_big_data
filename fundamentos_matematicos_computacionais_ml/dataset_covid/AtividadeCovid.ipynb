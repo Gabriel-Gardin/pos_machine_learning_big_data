{
 "cells": [
  {
   "cell_type": "code",
   "execution_count": 31,
   "metadata": {
    "collapsed": true
   },
   "outputs": [],
   "source": [
    "import pandas as pd\n",
    "import requests\n",
    "import numpy as np\n",
    "from sklearn.preprocessing import OrdinalEncoder\n",
    "oe=OrdinalEncoder()\n",
    "from sklearn.preprocessing import OneHotEncoder\n",
    "ohe=OneHotEncoder()\n",
    "from sklearn.preprocessing import MinMaxScaler\n",
    "scaler= MinMaxScaler()"
   ]
  },
  {
   "cell_type": "code",
   "execution_count": 9,
   "metadata": {
    "pycharm": {
     "name": "#%%\n"
    }
   },
   "outputs": [],
   "source": [
    "url=\"https://www.saude.pr.gov.br/sites/default/arquivos_restritos/files/documento/2020-11/INFORME_EPIDEMIOLOGICO_24_11_Geral.csv\"\n",
    "req = requests.get(url)\n",
    "url_content = req.content\n",
    "csv_file = open('covid.csv', 'wb')\n",
    "\n",
    "csv_file.write(url_content)\n",
    "csv_file.close()"
   ]
  },
  {
   "cell_type": "code",
   "execution_count": 12,
   "metadata": {
    "pycharm": {
     "name": "#%%\n"
    }
   },
   "outputs": [
    {
     "name": "stderr",
     "output_type": "stream",
     "text": [
      "/Users/julio.j4pa/opt/anaconda3/lib/python3.8/site-packages/IPython/core/interactiveshell.py:3165: DtypeWarning: Columns (3) have mixed types.Specify dtype option on import or set low_memory=False.\n",
      "  has_raised = await self.run_ast_nodes(code_ast.body, cell_name,\n"
     ]
    },
    {
     "data": {
      "text/plain": [
       "Recuperado    190570\n",
       "recuperado         2\n",
       "Name: STATUS, dtype: int64"
      ]
     },
     "execution_count": 12,
     "metadata": {},
     "output_type": "execute_result"
    }
   ],
   "source": [
    "covid_df=pd.read_csv('covid.csv', sep=';')\n",
    "covid_df.head()"
   ]
  },
  {
   "cell_type": "code",
   "execution_count": 28,
   "metadata": {
    "pycharm": {
     "name": "#%%\n"
    }
   },
   "outputs": [
    {
     "data": {
      "text/plain": [
       "F    136656\n",
       "M    124362\n",
       "Name: SEXO, dtype: int64"
      ]
     },
     "execution_count": 28,
     "metadata": {},
     "output_type": "execute_result"
    }
   ],
   "source": [
    "covid_df.SEXO.value_counts()\n",
    "#covid_df[(covid_df['OBITO']=='Sim')]"
   ]
  },
  {
   "cell_type": "code",
   "execution_count": 64,
   "metadata": {
    "pycharm": {
     "name": "#%%\n"
    }
   },
   "outputs": [
    {
     "data": {
      "text/html": [
       "<div>\n",
       "<style scoped>\n",
       "    .dataframe tbody tr th:only-of-type {\n",
       "        vertical-align: middle;\n",
       "    }\n",
       "\n",
       "    .dataframe tbody tr th {\n",
       "        vertical-align: top;\n",
       "    }\n",
       "\n",
       "    .dataframe thead th {\n",
       "        text-align: right;\n",
       "    }\n",
       "</style>\n",
       "<table border=\"1\" class=\"dataframe\">\n",
       "  <thead>\n",
       "    <tr style=\"text-align: right;\">\n",
       "      <th></th>\n",
       "      <th>IBGE_RES_PR</th>\n",
       "      <th>IBGE_ATEND_PR</th>\n",
       "      <th>IDADE_ORIGINAL</th>\n",
       "      <th>MUN_RESIDENCIA</th>\n",
       "      <th>MUN_ATENDIMENTO</th>\n",
       "      <th>LABORATORIO</th>\n",
       "      <th>DATA_DIAGNOSTICO</th>\n",
       "      <th>DATA_CONFIRMACAO_DIVULGACAO</th>\n",
       "      <th>DATA_INICIO_SINTOMAS</th>\n",
       "      <th>OBITO</th>\n",
       "      <th>DATA_OBITO</th>\n",
       "      <th>DATA_OBITO_DIVULGACAO</th>\n",
       "      <th>STATUS</th>\n",
       "      <th>DATA_RECUPERADO_DIVULGACAO</th>\n",
       "      <th>FONTE_DADO_RECUPERADO</th>\n",
       "      <th>FEMININO</th>\n",
       "      <th>MASCULINO</th>\n",
       "    </tr>\n",
       "  </thead>\n",
       "  <tbody>\n",
       "    <tr>\n",
       "      <th>167156</th>\n",
       "      <td>4106704</td>\n",
       "      <td>4118402</td>\n",
       "      <td>65</td>\n",
       "      <td>CRUZEIRO DO SUL</td>\n",
       "      <td>PARANAVAÍ</td>\n",
       "      <td>CLINICO EPIDEMIOLÓGICO</td>\n",
       "      <td>16/09/2020</td>\n",
       "      <td>17/09/2020</td>\n",
       "      <td>NaN</td>\n",
       "      <td>NaN</td>\n",
       "      <td>04/09/2020</td>\n",
       "      <td>17/09/2020</td>\n",
       "      <td>NaN</td>\n",
       "      <td>NaN</td>\n",
       "      <td>NaN</td>\n",
       "      <td>1.0</td>\n",
       "      <td>0.0</td>\n",
       "    </tr>\n",
       "  </tbody>\n",
       "</table>\n",
       "</div>"
      ],
      "text/plain": [
       "        IBGE_RES_PR  IBGE_ATEND_PR IDADE_ORIGINAL   MUN_RESIDENCIA  \\\n",
       "167156      4106704        4118402             65  CRUZEIRO DO SUL   \n",
       "\n",
       "       MUN_ATENDIMENTO             LABORATORIO DATA_DIAGNOSTICO  \\\n",
       "167156       PARANAVAÍ  CLINICO EPIDEMIOLÓGICO       16/09/2020   \n",
       "\n",
       "       DATA_CONFIRMACAO_DIVULGACAO DATA_INICIO_SINTOMAS OBITO  DATA_OBITO  \\\n",
       "167156                  17/09/2020                  NaN   NaN  04/09/2020   \n",
       "\n",
       "       DATA_OBITO_DIVULGACAO STATUS DATA_RECUPERADO_DIVULGACAO  \\\n",
       "167156            17/09/2020    NaN                        NaN   \n",
       "\n",
       "       FONTE_DADO_RECUPERADO  FEMININO  MASCULINO  \n",
       "167156                   NaN       1.0        0.0  "
      ]
     },
     "execution_count": 64,
     "metadata": {},
     "output_type": "execute_result"
    }
   ],
   "source": [
    "#Provavelmente pessoas com covid q ainda nao recuperaram nem morreram\n",
    "covid_df[(covid_df['OBITO'].isnull()) & (covid_df['STATUS'].isnull())]"
   ]
  },
  {
   "cell_type": "code",
   "execution_count": 65,
   "metadata": {
    "pycharm": {
     "name": "#%%\n"
    }
   },
   "outputs": [],
   "source": [
    "#Binarizaçao\n",
    "tempSexo=ohe.fit_transform(covid_df[['SEXO']])\n",
    "ohe.categories_\n",
    "covidSexo_df=pd.DataFrame(tempSexo.toarray(), columns=['FEMININO','MASCULINO'])\n",
    "novo_df=pd.merge(covid_df,covidSexo_df, left_index=True, right_index=True)\n",
    "novo_df=novo_df.drop(['SEXO'], axis=1)"
   ]
  },
  {
   "cell_type": "code",
   "execution_count": 77,
   "metadata": {
    "pycharm": {
     "name": "#%%\n"
    }
   },
   "outputs": [],
   "source": [
    "#Confrimar nao obitos\n",
    "novo_df.loc[novo_df['OBITO'].isnull() & novo_df['DATA_OBITO'].isnull(), 'OBITO']='Não'\n",
    "#Normalizar String\n",
    "\n",
    "novo_df.loc[(novo_df['OBITO']=='SIM') | (novo_df['DATA_OBITO'].notnull()), 'OBITO']='Sim'"
   ]
  },
  {
   "cell_type": "code",
   "execution_count": 78,
   "metadata": {
    "pycharm": {
     "name": "#%%\n"
    }
   },
   "outputs": [],
   "source": [
    "oe.fit_transform(novo_df[['OBITO']])\n",
    "oe.categories_\n",
    "novo_df.OBITO=oe.fit_transform(novo_df[['OBITO']])"
   ]
  },
  {
   "cell_type": "code",
   "execution_count": 80,
   "metadata": {
    "pycharm": {
     "name": "#%%\n"
    }
   },
   "outputs": [
    {
     "data": {
      "text/html": [
       "<div>\n",
       "<style scoped>\n",
       "    .dataframe tbody tr th:only-of-type {\n",
       "        vertical-align: middle;\n",
       "    }\n",
       "\n",
       "    .dataframe tbody tr th {\n",
       "        vertical-align: top;\n",
       "    }\n",
       "\n",
       "    .dataframe thead th {\n",
       "        text-align: right;\n",
       "    }\n",
       "</style>\n",
       "<table border=\"1\" class=\"dataframe\">\n",
       "  <thead>\n",
       "    <tr style=\"text-align: right;\">\n",
       "      <th></th>\n",
       "      <th>IBGE_RES_PR</th>\n",
       "      <th>IBGE_ATEND_PR</th>\n",
       "      <th>IDADE_ORIGINAL</th>\n",
       "      <th>MUN_RESIDENCIA</th>\n",
       "      <th>MUN_ATENDIMENTO</th>\n",
       "      <th>LABORATORIO</th>\n",
       "      <th>DATA_DIAGNOSTICO</th>\n",
       "      <th>DATA_CONFIRMACAO_DIVULGACAO</th>\n",
       "      <th>DATA_INICIO_SINTOMAS</th>\n",
       "      <th>OBITO</th>\n",
       "      <th>DATA_OBITO</th>\n",
       "      <th>DATA_OBITO_DIVULGACAO</th>\n",
       "      <th>STATUS</th>\n",
       "      <th>DATA_RECUPERADO_DIVULGACAO</th>\n",
       "      <th>FONTE_DADO_RECUPERADO</th>\n",
       "      <th>FEMININO</th>\n",
       "      <th>MASCULINO</th>\n",
       "    </tr>\n",
       "  </thead>\n",
       "  <tbody>\n",
       "    <tr>\n",
       "      <th>0</th>\n",
       "      <td>4114609</td>\n",
       "      <td>4114609</td>\n",
       "      <td>47</td>\n",
       "      <td>MARECHAL CANDIDO RONDON</td>\n",
       "      <td>MARECHAL CANDIDO RONDON</td>\n",
       "      <td>COVID-19, Biologia Molecular</td>\n",
       "      <td>10/10/2020</td>\n",
       "      <td>13/10/2020</td>\n",
       "      <td>04/10/2020</td>\n",
       "      <td>0.0</td>\n",
       "      <td>NaN</td>\n",
       "      <td>NaN</td>\n",
       "      <td>Recuperado</td>\n",
       "      <td>21/10/2020</td>\n",
       "      <td>NOTIFICA COVID</td>\n",
       "      <td>0.0</td>\n",
       "      <td>1.0</td>\n",
       "    </tr>\n",
       "    <tr>\n",
       "      <th>1</th>\n",
       "      <td>4125407</td>\n",
       "      <td>4125407</td>\n",
       "      <td>73</td>\n",
       "      <td>SAO JOSE DA BOA VISTA</td>\n",
       "      <td>SAO JOSE DA BOA VISTA</td>\n",
       "      <td>COVID-19, Biologia Molecular</td>\n",
       "      <td>11/10/2020</td>\n",
       "      <td>13/10/2020</td>\n",
       "      <td>30/09/2020</td>\n",
       "      <td>0.0</td>\n",
       "      <td>NaN</td>\n",
       "      <td>NaN</td>\n",
       "      <td>Recuperado</td>\n",
       "      <td>20/10/2020</td>\n",
       "      <td>NOTIFICA COVID</td>\n",
       "      <td>0.0</td>\n",
       "      <td>1.0</td>\n",
       "    </tr>\n",
       "    <tr>\n",
       "      <th>2</th>\n",
       "      <td>4118204</td>\n",
       "      <td>4118204</td>\n",
       "      <td>45</td>\n",
       "      <td>PARANAGUA</td>\n",
       "      <td>PARANAGUA</td>\n",
       "      <td>COVID-19, Biologia Molecular</td>\n",
       "      <td>09/10/2020</td>\n",
       "      <td>13/10/2020</td>\n",
       "      <td>01/10/2020</td>\n",
       "      <td>0.0</td>\n",
       "      <td>NaN</td>\n",
       "      <td>NaN</td>\n",
       "      <td>Recuperado</td>\n",
       "      <td>21/10/2020</td>\n",
       "      <td>NOTIFICA COVID</td>\n",
       "      <td>0.0</td>\n",
       "      <td>1.0</td>\n",
       "    </tr>\n",
       "    <tr>\n",
       "      <th>3</th>\n",
       "      <td>4102208</td>\n",
       "      <td>4102208</td>\n",
       "      <td>40</td>\n",
       "      <td>ATALAIA</td>\n",
       "      <td>ATALAIA</td>\n",
       "      <td>COVID-19, Biologia Molecular</td>\n",
       "      <td>11/10/2020</td>\n",
       "      <td>13/10/2020</td>\n",
       "      <td>29/09/2020</td>\n",
       "      <td>0.0</td>\n",
       "      <td>NaN</td>\n",
       "      <td>NaN</td>\n",
       "      <td>Recuperado</td>\n",
       "      <td>22/10/2020</td>\n",
       "      <td>NOTIFICA COVID</td>\n",
       "      <td>1.0</td>\n",
       "      <td>0.0</td>\n",
       "    </tr>\n",
       "    <tr>\n",
       "      <th>4</th>\n",
       "      <td>4103602</td>\n",
       "      <td>4103602</td>\n",
       "      <td>43</td>\n",
       "      <td>CAMBARA</td>\n",
       "      <td>CAMBARA</td>\n",
       "      <td>COVID-19, Biologia Molecular</td>\n",
       "      <td>11/10/2020</td>\n",
       "      <td>13/10/2020</td>\n",
       "      <td>05/10/2020</td>\n",
       "      <td>0.0</td>\n",
       "      <td>NaN</td>\n",
       "      <td>NaN</td>\n",
       "      <td>Recuperado</td>\n",
       "      <td>03/11/2020</td>\n",
       "      <td>NOTIFICA COVID</td>\n",
       "      <td>1.0</td>\n",
       "      <td>0.0</td>\n",
       "    </tr>\n",
       "  </tbody>\n",
       "</table>\n",
       "</div>"
      ],
      "text/plain": [
       "   IBGE_RES_PR  IBGE_ATEND_PR IDADE_ORIGINAL           MUN_RESIDENCIA  \\\n",
       "0      4114609        4114609             47  MARECHAL CANDIDO RONDON   \n",
       "1      4125407        4125407             73    SAO JOSE DA BOA VISTA   \n",
       "2      4118204        4118204             45                PARANAGUA   \n",
       "3      4102208        4102208             40                  ATALAIA   \n",
       "4      4103602        4103602             43                  CAMBARA   \n",
       "\n",
       "           MUN_ATENDIMENTO                   LABORATORIO DATA_DIAGNOSTICO  \\\n",
       "0  MARECHAL CANDIDO RONDON  COVID-19, Biologia Molecular       10/10/2020   \n",
       "1    SAO JOSE DA BOA VISTA  COVID-19, Biologia Molecular       11/10/2020   \n",
       "2                PARANAGUA  COVID-19, Biologia Molecular       09/10/2020   \n",
       "3                  ATALAIA  COVID-19, Biologia Molecular       11/10/2020   \n",
       "4                  CAMBARA  COVID-19, Biologia Molecular       11/10/2020   \n",
       "\n",
       "  DATA_CONFIRMACAO_DIVULGACAO DATA_INICIO_SINTOMAS  OBITO DATA_OBITO  \\\n",
       "0                  13/10/2020           04/10/2020    0.0        NaN   \n",
       "1                  13/10/2020           30/09/2020    0.0        NaN   \n",
       "2                  13/10/2020           01/10/2020    0.0        NaN   \n",
       "3                  13/10/2020           29/09/2020    0.0        NaN   \n",
       "4                  13/10/2020           05/10/2020    0.0        NaN   \n",
       "\n",
       "  DATA_OBITO_DIVULGACAO      STATUS DATA_RECUPERADO_DIVULGACAO  \\\n",
       "0                   NaN  Recuperado                 21/10/2020   \n",
       "1                   NaN  Recuperado                 20/10/2020   \n",
       "2                   NaN  Recuperado                 21/10/2020   \n",
       "3                   NaN  Recuperado                 22/10/2020   \n",
       "4                   NaN  Recuperado                 03/11/2020   \n",
       "\n",
       "  FONTE_DADO_RECUPERADO  FEMININO  MASCULINO  \n",
       "0        NOTIFICA COVID       0.0        1.0  \n",
       "1        NOTIFICA COVID       0.0        1.0  \n",
       "2        NOTIFICA COVID       0.0        1.0  \n",
       "3        NOTIFICA COVID       1.0        0.0  \n",
       "4        NOTIFICA COVID       1.0        0.0  "
      ]
     },
     "execution_count": 80,
     "metadata": {},
     "output_type": "execute_result"
    }
   ],
   "source": [
    "novo_df.head()"
   ]
  }
 ],
 "metadata": {
  "kernelspec": {
   "display_name": "Python 3",
   "language": "python",
   "name": "python3"
  },
  "language_info": {
   "codemirror_mode": {
    "name": "ipython",
    "version": 3
   },
   "file_extension": ".py",
   "mimetype": "text/x-python",
   "name": "python",
   "nbconvert_exporter": "python",
   "pygments_lexer": "ipython3",
   "version": "3.8.10"
  }
 },
 "nbformat": 4,
 "nbformat_minor": 1
}
